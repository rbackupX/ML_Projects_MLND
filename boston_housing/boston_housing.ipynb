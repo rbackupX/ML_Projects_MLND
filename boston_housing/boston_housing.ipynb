{
 "cells": [
  {
   "cell_type": "markdown",
   "metadata": {},
   "source": [
    "# Machine Learning Engineer Nanodegree\n",
    "## Model Evaluation & Validation\n",
    "## Project: Predicting Boston Housing Prices\n",
    "\n",
    "Welcome to the first project of the Machine Learning Engineer Nanodegree! In this notebook, some template code has already been provided for you, and you will need to implement additional functionality to successfully complete this project. You will not need to modify the included code beyond what is requested. Sections that begin with **'Implementation'** in the header indicate that the following block of code will require additional functionality which you must provide. Instructions will be provided for each section and the specifics of the implementation are marked in the code block with a 'TODO' statement. Please be sure to read the instructions carefully!\n",
    "\n",
    "In addition to implementing code, there will be questions that you must answer which relate to the project and your implementation. Each section where you will answer a question is preceded by a **'Question X'** header. Carefully read each question and provide thorough answers in the following text boxes that begin with **'Answer:'**. Your project submission will be evaluated based on your answers to each of the questions and the implementation you provide.  \n",
    "\n",
    ">**Note:** Code and Markdown cells can be executed using the **Shift + Enter** keyboard shortcut. In addition, Markdown cells can be edited by typically double-clicking the cell to enter edit mode."
   ]
  },
  {
   "cell_type": "markdown",
   "metadata": {},
   "source": [
    "## Getting Started\n",
    "In this project, you will evaluate the performance and predictive power of a model that has been trained and tested on data collected from homes in suburbs of Boston, Massachusetts. A model trained on this data that is seen as a *good fit* could then be used to make certain predictions about a home — in particular, its monetary value. This model would prove to be invaluable for someone like a real estate agent who could make use of such information on a daily basis.\n",
    "\n",
    "The dataset for this project originates from the [UCI Machine Learning Repository](https://archive.ics.uci.edu/ml/datasets/Housing). The Boston housing data was collected in 1978 and each of the 506 entries represent aggregated data about 14 features for homes from various suburbs in Boston, Massachusetts. For the purposes of this project, the following preprocessing steps have been made to the dataset:\n",
    "- 16 data points have an `'MEDV'` value of 50.0. These data points likely contain **missing or censored values** and have been removed.\n",
    "- 1 data point has an `'RM'` value of 8.78. This data point can be considered an **outlier** and has been removed.\n",
    "- The features `'RM'`, `'LSTAT'`, `'PTRATIO'`, and `'MEDV'` are essential. The remaining **non-relevant features** have been excluded.\n",
    "- The feature `'MEDV'` has been **multiplicatively scaled** to account for 35 years of market inflation.\n",
    "\n",
    "Run the code cell below to load the Boston housing dataset, along with a few of the necessary Python libraries required for this project. You will know the dataset loaded successfully if the size of the dataset is reported."
   ]
  },
  {
   "cell_type": "code",
   "execution_count": 1,
   "metadata": {},
   "outputs": [
    {
     "name": "stderr",
     "output_type": "stream",
     "text": [
      "C:\\ProgramData\\Anaconda3x\\lib\\site-packages\\sklearn\\cross_validation.py:44: DeprecationWarning: This module was deprecated in version 0.18 in favor of the model_selection module into which all the refactored classes and functions are moved. Also note that the interface of the new CV iterators are different from that of this module. This module will be removed in 0.20.\n",
      "  \"This module will be removed in 0.20.\", DeprecationWarning)\n",
      "C:\\ProgramData\\Anaconda3x\\lib\\site-packages\\sklearn\\learning_curve.py:23: DeprecationWarning: This module was deprecated in version 0.18 in favor of the model_selection module into which all the functions are moved. This module will be removed in 0.20\n",
      "  DeprecationWarning)\n"
     ]
    },
    {
     "name": "stdout",
     "output_type": "stream",
     "text": [
      "Boston housing dataset has 489 data points with 4 variables each.\n"
     ]
    }
   ],
   "source": [
    "# Import libraries necessary for this project\n",
    "import numpy as np\n",
    "import pandas as pd\n",
    "from sklearn.cross_validation import ShuffleSplit\n",
    "\n",
    "# Import supplementary visualizations code visuals.py\n",
    "import visuals as vs\n",
    "\n",
    "# Pretty display for notebooks\n",
    "%matplotlib inline\n",
    "\n",
    "# Load the Boston housing dataset\n",
    "data = pd.read_csv('housing.csv')\n",
    "prices = data['MEDV']\n",
    "features = data.drop('MEDV', axis = 1)\n",
    "    \n",
    "# Success\n",
    "print(\"Boston housing dataset has {} data points with {} variables each.\".format(*data.shape))"
   ]
  },
  {
   "cell_type": "markdown",
   "metadata": {},
   "source": [
    "## Data Exploration\n",
    "In this first section of this project, you will make a cursory investigation about the Boston housing data and provide your observations. Familiarizing yourself with the data through an explorative process is a fundamental practice to help you better understand and justify your results.\n",
    "\n",
    "Since the main goal of this project is to construct a working model which has the capability of predicting the value of houses, we will need to separate the dataset into **features** and the **target variable**. The **features**, `'RM'`, `'LSTAT'`, and `'PTRATIO'`, give us quantitative information about each data point. The **target variable**, `'MEDV'`, will be the variable we seek to predict. These are stored in `features` and `prices`, respectively."
   ]
  },
  {
   "cell_type": "markdown",
   "metadata": {},
   "source": [
    "### Implementation: Calculate Statistics\n",
    "For your very first coding implementation, you will calculate descriptive statistics about the Boston housing prices. Since `numpy` has already been imported for you, use this library to perform the necessary calculations. These statistics will be extremely important later on to analyze various prediction results from the constructed model.\n",
    "\n",
    "In the code cell below, you will need to implement the following:\n",
    "- Calculate the minimum, maximum, mean, median, and standard deviation of `'MEDV'`, which is stored in `prices`.\n",
    "  - Store each calculation in their respective variable."
   ]
  },
  {
   "cell_type": "code",
   "execution_count": 10,
   "metadata": {},
   "outputs": [
    {
     "name": "stdout",
     "output_type": "stream",
     "text": [
      "105000.0\n",
      "1024800.0\n",
      "438900.0\n",
      "165340.27765266786\n"
     ]
    }
   ],
   "source": [
    "#data.head()\n",
    "print(data['MEDV'].min())\n",
    "print(data['MEDV'].max())\n",
    "\n",
    "print(data['MEDV'].median())\n",
    "print(data['MEDV'].std())"
   ]
  },
  {
   "cell_type": "code",
   "execution_count": 12,
   "metadata": {},
   "outputs": [
    {
     "name": "stdout",
     "output_type": "stream",
     "text": [
      "Statistics for Boston housing dataset:\n",
      "\n",
      "Minimum price: $105000.0\n",
      "Maximum price: $1024800.0\n",
      "Mean price: $454342.9447852761\n",
      "Median price $438900.0\n",
      "Standard deviation of prices: $165340.27765266786\n"
     ]
    }
   ],
   "source": [
    "# TODO: Minimum price of the data\n",
    "minimum_price = data['MEDV'].min()\n",
    "\n",
    "# TODO: Maximum price of the data\n",
    "maximum_price = data['MEDV'].max()\n",
    "\n",
    "# TODO: Mean price of the data\n",
    "mean_price = data['MEDV'].mean()\n",
    "\n",
    "# TODO: Median price of the data\n",
    "median_price = data['MEDV'].median()\n",
    "\n",
    "# TODO: Standard deviation of prices of the data\n",
    "std_price = data['MEDV'].std()\n",
    "\n",
    "# Show the calculated statistics\n",
    "print(\"Statistics for Boston housing dataset:\\n\")\n",
    "print(\"Minimum price: ${}\".format(minimum_price)) \n",
    "print(\"Maximum price: ${}\".format(maximum_price))\n",
    "print(\"Mean price: ${}\".format(mean_price))\n",
    "print(\"Median price ${}\".format(median_price))\n",
    "print(\"Standard deviation of prices: ${}\".format(std_price))"
   ]
  },
  {
   "cell_type": "markdown",
   "metadata": {},
   "source": [
    "### Question 1 - Feature Observation\n",
    "As a reminder, we are using three features from the Boston housing dataset: `'RM'`, `'LSTAT'`, and `'PTRATIO'`. For each data point (neighborhood):\n",
    "- `'RM'` is the average number of rooms among homes in the neighborhood.\n",
    "- `'LSTAT'` is the percentage of homeowners in the neighborhood considered \"lower class\" (working poor).\n",
    "- `'PTRATIO'` is the ratio of students to teachers in primary and secondary schools in the neighborhood.\n",
    "\n",
    "\n",
    "** Using your intuition, for each of the three features above, do you think that an increase in the value of that feature would lead to an **increase** in the value of `'MEDV'` or a **decrease** in the value of `'MEDV'`? Justify your answer for each.**\n",
    "\n",
    "**Hint:** This problem can phrased using examples like below.  \n",
    "* Would you expect a home that has an `'RM'` value(number of rooms) of 6 be worth more or less than a home that has an `'RM'` value of 7?\n",
    "* Would you expect a neighborhood that has an `'LSTAT'` value(percent of lower class workers) of 15 have home prices be worth more or less than a neighborhood that has an `'LSTAT'` value of 20?\n",
    "* Would you expect a neighborhood that has an `'PTRATIO'` value(ratio of students to teachers) of 10 have home prices be worth more or less than a neighborhood that has an `'PTRATIO'` value of 15?"
   ]
  },
  {
   "cell_type": "markdown",
   "metadata": {},
   "source": [
    "**Answer: **\n",
    "\n",
    "    •'RM' The number of rooms should have a *Positive correlation*.\n",
    "    •'LSTAT' This should have a *Negative Correlation*.\n",
    "    •'PTRATIO' This should have a *Negative Correlation*.\n"
   ]
  },
  {
   "cell_type": "markdown",
   "metadata": {},
   "source": [
    "----\n",
    "\n",
    "## Developing a Model\n",
    "In this second section of the project, you will develop the tools and techniques necessary for a model to make a prediction. Being able to make accurate evaluations of each model's performance through the use of these tools and techniques helps to greatly reinforce the confidence in your predictions."
   ]
  },
  {
   "cell_type": "markdown",
   "metadata": {},
   "source": [
    "### Implementation: Define a Performance Metric\n",
    "It is difficult to measure the quality of a given model without quantifying its performance over training and testing. This is typically done using some type of performance metric, whether it is through calculating some type of error, the goodness of fit, or some other useful measurement. For this project, you will be calculating the [*coefficient of determination*](http://stattrek.com/statistics/dictionary.aspx?definition=coefficient_of_determination), R<sup>2</sup>, to quantify your model's performance. The coefficient of determination for a model is a useful statistic in regression analysis, as it often describes how \"good\" that model is at making predictions. \n",
    "\n",
    "The values for R<sup>2</sup> range from 0 to 1, which captures the percentage of squared correlation between the predicted and actual values of the **target variable**. A model with an R<sup>2</sup> of 0 is no better than a model that always predicts the *mean* of the target variable, whereas a model with an R<sup>2</sup> of 1 perfectly predicts the target variable. Any value between 0 and 1 indicates what percentage of the target variable, using this model, can be explained by the **features**. _A model can be given a negative R<sup>2</sup> as well, which indicates that the model is **arbitrarily worse** than one that always predicts the mean of the target variable._\n",
    "\n",
    "For the `performance_metric` function in the code cell below, you will need to implement the following:\n",
    "- Use `r2_score` from `sklearn.metrics` to perform a performance calculation between `y_true` and `y_predict`.\n",
    "- Assign the performance score to the `score` variable."
   ]
  },
  {
   "cell_type": "code",
   "execution_count": 20,
   "metadata": {
    "collapsed": true
   },
   "outputs": [],
   "source": [
    "from sklearn.metrics import r2_score\n",
    "\n",
    "def performance_metric(y_true, y_predict):\n",
    "    \"\"\" Calculates and returns the performance score between \n",
    "        true and predicted values based on the metric chosen. \"\"\"\n",
    "    \n",
    "    # TODO: Calculate the performance score between 'y_true' and 'y_predict'\n",
    "    score = r2_score(y_true,y_predict)\n",
    "    \n",
    "    # Return the score\n",
    "    return score"
   ]
  },
  {
   "cell_type": "markdown",
   "metadata": {},
   "source": [
    "### Question 2 - Goodness of Fit\n",
    "Assume that a dataset contains five data points and a model made the following predictions for the target variable:\n",
    "\n",
    "| True Value | Prediction |\n",
    "| :-------------: | :--------: |\n",
    "| 3.0 | 2.5 |\n",
    "| -0.5 | 0.0 |\n",
    "| 2.0 | 2.1 |\n",
    "| 7.0 | 7.8 |\n",
    "| 4.2 | 5.3 |\n",
    "\n",
    "Run the code cell below to use the `performance_metric` function and calculate this model's coefficient of determination."
   ]
  },
  {
   "cell_type": "code",
   "execution_count": 21,
   "metadata": {},
   "outputs": [
    {
     "name": "stdout",
     "output_type": "stream",
     "text": [
      "Model has a coefficient of determination, R^2, of 0.923.\n"
     ]
    }
   ],
   "source": [
    "# Calculate the performance of this model\n",
    "score = performance_metric([3, -0.5, 2, 7, 4.2], [2.5, 0.0, 2.1, 7.8, 5.3])\n",
    "print(\"Model has a coefficient of determination, R^2, of {:.3f}.\".format(score))"
   ]
  },
  {
   "cell_type": "markdown",
   "metadata": {},
   "source": [
    "* Would you consider this model to have successfully captured the variation of the target variable? \n",
    "* Why or why not?\n",
    "\n",
    "** Hint: **  The R2 score is the proportion of the variance in the dependent variable that is predictable from the independent variable. In other words:\n",
    "* R2 score of 0 means that the dependent variable cannot be predicted from the independent variable.\n",
    "* R2 score of 1 means the dependent variable can be predicted from the independent variable.\n",
    "* R2 score between 0 and 1 indicates the extent to which the dependent variable is predictable. An \n",
    "* R2 score of 0.40 means that 40 percent of the variance in Y is predictable from X."
   ]
  },
  {
   "cell_type": "markdown",
   "metadata": {},
   "source": [
    "**Answer:**"
   ]
  },
  {
   "cell_type": "markdown",
   "metadata": {},
   "source": [
    "### Implementation: Shuffle and Split Data\n",
    "Your next implementation requires that you take the Boston housing dataset and split the data into training and testing subsets. Typically, the data is also shuffled into a random order when creating the training and testing subsets to remove any bias in the ordering of the dataset.\n",
    "\n",
    "For the code cell below, you will need to implement the following:\n",
    "- Use `train_test_split` from `sklearn.cross_validation` to shuffle and split the `features` and `prices` data into training and testing sets.\n",
    "  - Split the data into 80% training and 20% testing.\n",
    "  - Set the `random_state` for `train_test_split` to a value of your choice. This ensures results are consistent.\n",
    "- Assign the train and testing splits to `X_train`, `X_test`, `y_train`, and `y_test`."
   ]
  },
  {
   "cell_type": "code",
   "execution_count": 24,
   "metadata": {},
   "outputs": [
    {
     "name": "stdout",
     "output_type": "stream",
     "text": [
      "Training and testing split was successful.\n"
     ]
    }
   ],
   "source": [
    "# Import 'train_test_split'\n",
    "\n",
    "from sklearn.cross_validation import train_test_split\n",
    "# TODO: Shuffle and split the data into training and testing subsets\n",
    "X_train, X_test, y_train, y_test = train_test_split (features,prices, test_size=0.25, random_state=42)\n",
    "# Success\n",
    "print(\"Training and testing split was successful.\")"
   ]
  },
  {
   "cell_type": "markdown",
   "metadata": {},
   "source": [
    "### Question 3 - Training and Testing\n",
    "\n",
    "* What is the benefit to splitting a dataset into some ratio of training and testing subsets for a learning algorithm?\n",
    "\n",
    "**Hint:** Think about how overfitting or underfitting is contingent upon how splits on data is done."
   ]
  },
  {
   "cell_type": "markdown",
   "metadata": {},
   "source": [
    "**Answer: **"
   ]
  },
  {
   "cell_type": "markdown",
   "metadata": {},
   "source": [
    "----\n",
    "\n",
    "## Analyzing Model Performance\n",
    "In this third section of the project, you'll take a look at several models' learning and testing performances on various subsets of training data. Additionally, you'll investigate one particular algorithm with an increasing `'max_depth'` parameter on the full training set to observe how model complexity affects performance. Graphing your model's performance based on varying criteria can be beneficial in the analysis process, such as visualizing behavior that may not have been apparent from the results alone."
   ]
  },
  {
   "cell_type": "markdown",
   "metadata": {},
   "source": [
    "### Learning Curves\n",
    "The following code cell produces four graphs for a decision tree model with different maximum depths. Each graph visualizes the learning curves of the model for both training and testing as the size of the training set is increased. Note that the shaded region of a learning curve denotes the uncertainty of that curve (measured as the standard deviation). The model is scored on both the training and testing sets using R<sup>2</sup>, the coefficient of determination.  \n",
    "\n",
    "Run the code cell below and use these graphs to answer the following question."
   ]
  },
  {
   "cell_type": "code",
   "execution_count": 25,
   "metadata": {
    "scrolled": false
   },
   "outputs": [
    {
     "data": {
      "image/png": "[encoded data removed]",
      "text/plain": [
       "<matplotlib.figure.Figure at 0xc27f7f0>"
      ]
     },
     "metadata": {},
     "output_type": "display_data"
    }
   ],
   "source": [
    "# Produce learning curves for varying training set sizes and maximum depths\n",
    "vs.ModelLearning(features, prices)"
   ]
  },
  {
   "cell_type": "markdown",
   "metadata": {},
   "source": [
    "### Question 4 - Learning the Data\n",
    "* Choose one of the graphs above and state the maximum depth for the model. \n",
    "* What happens to the score of the training curve as more training points are added? What about the testing curve? \n",
    "* Would having more training points benefit the model? \n",
    "\n",
    "**Hint:** Are the learning curves converging to particular scores? Generally speaking, the more data you have, the better. But if your training and testing curves are converging with a score above your benchmark threshold, would this be necessary?\n",
    "Think about the pros and cons of adding more training points based on if the training and testing curves are converging."
   ]
  },
  {
   "cell_type": "markdown",
   "metadata": {},
   "source": [
    "**Answer: **"
   ]
  },
  {
   "cell_type": "markdown",
   "metadata": {},
   "source": [
    "### Complexity Curves\n",
    "The following code cell produces a graph for a decision tree model that has been trained and validated on the training data using different maximum depths. The graph produces two complexity curves — one for training and one for validation. Similar to the **learning curves**, the shaded regions of both the complexity curves denote the uncertainty in those curves, and the model is scored on both the training and validation sets using the `performance_metric` function.  \n",
    "\n",
    "** Run the code cell below and use this graph to answer the following two questions Q5 and Q6. **"
   ]
  },
  {
   "cell_type": "code",
   "execution_count": 26,
   "metadata": {},
   "outputs": [
    {
     "data": {
      "image/png": "[encoded data removed]",
      "text/plain": [
       "<matplotlib.figure.Figure at 0xc4f7e10>"
      ]
     },
     "metadata": {},
     "output_type": "display_data"
    }
   ],
   "source": [
    "vs.ModelComplexity(X_train, y_train)"
   ]
  },
  {
   "cell_type": "markdown",
   "metadata": {},
   "source": [
    "### Question 5 - Bias-Variance Tradeoff\n",
    "* When the model is trained with a maximum depth of 1, does the model suffer from high bias or from high variance? \n",
    "* How about when the model is trained with a maximum depth of 10? What visual cues in the graph justify your conclusions?\n",
    "\n",
    "**Hint:** High bias is a sign of underfitting(model is not complex enough to pick up the nuances in the data) and high variance is a sign of overfitting(model is by-hearting the data and cannot generalize well). Think about which model(depth 1 or 10) aligns with which part of the tradeoff."
   ]
  },
  {
   "cell_type": "markdown",
   "metadata": {},
   "source": [
    "**Answer: **"
   ]
  },
  {
   "cell_type": "markdown",
   "metadata": {},
   "source": [
    "### Question 6 - Best-Guess Optimal Model\n",
    "* Which maximum depth do you think results in a model that best generalizes to unseen data? \n",
    "* What intuition lead you to this answer?\n",
    "\n",
    "** Hint: ** Look at the graph above Question 5 and see where the validation scores lie for the various depths that have been assigned to the model. Does it get better with increased depth? At what point do we get our best validation score without overcomplicating our model? And remember, Occams Razor states \"Among competing hypotheses, the one with the fewest assumptions should be selected.\""
   ]
  },
  {
   "cell_type": "markdown",
   "metadata": {},
   "source": [
    "**Answer: **"
   ]
  },
  {
   "cell_type": "markdown",
   "metadata": {},
   "source": [
    "-----\n",
    "\n",
    "## Evaluating Model Performance\n",
    "In this final section of the project, you will construct a model and make a prediction on the client's feature set using an optimized model from `fit_model`."
   ]
  },
  {
   "cell_type": "markdown",
   "metadata": {},
   "source": [
    "### Question 7 - Grid Search\n",
    "* What is the grid search technique?\n",
    "* How it can be applied to optimize a learning algorithm?\n",
    "\n",
    "** Hint: ** When explaining the Grid Search technique, be sure to touch upon why it is used,  what the 'grid' entails and what the end goal of this method is. To solidify your answer, you can also give an example of a parameter in a model that can be optimized using this approach."
   ]
  },
  {
   "cell_type": "markdown",
   "metadata": {},
   "source": [
    "**Answer: **"
   ]
  },
  {
   "cell_type": "markdown",
   "metadata": {},
   "source": [
    "### Question 8 - Cross-Validation\n",
    "\n",
    "* What is the k-fold cross-validation training technique? \n",
    "\n",
    "* What benefit does this technique provide for grid search when optimizing a model?\n",
    "\n",
    "**Hint:** When explaining the k-fold cross validation technique, be sure to touch upon what 'k' is, how the dataset is split into different parts for training and testing and the number of times it is run based on the 'k' value.\n",
    "\n",
    "When thinking about how k-fold cross validation helps grid search, think about the main drawbacks of grid search which are hinged upon **using a particular subset of data for training or testing** and how k-fold cv could help alleviate that. You can refer to the [docs](http://scikit-learn.org/stable/modules/cross_validation.html#cross-validation) for your answer."
   ]
  },
  {
   "cell_type": "markdown",
   "metadata": {},
   "source": [
    "**Answer: **"
   ]
  },
  {
   "cell_type": "markdown",
   "metadata": {},
   "source": [
    "### Implementation: Fitting a Model\n",
    "Your final implementation requires that you bring everything together and train a model using the **decision tree algorithm**. To ensure that you are producing an optimized model, you will train the model using the grid search technique to optimize the `'max_depth'` parameter for the decision tree. The `'max_depth'` parameter can be thought of as how many questions the decision tree algorithm is allowed to ask about the data before making a prediction. Decision trees are part of a class of algorithms called *supervised learning algorithms*.\n",
    "\n",
    "In addition, you will find your implementation is using `ShuffleSplit()` for an alternative form of cross-validation (see the `'cv_sets'` variable). While it is not the K-Fold cross-validation technique you describe in **Question 8**, this type of cross-validation technique is just as useful!. The `ShuffleSplit()` implementation below will create 10 (`'n_splits'`) shuffled sets, and for each shuffle, 20% (`'test_size'`) of the data will be used as the *validation set*. While you're working on your implementation, think about the contrasts and similarities it has to the K-fold cross-validation technique.\n",
    "\n",
    "Please note that ShuffleSplit has different parameters in scikit-learn versions 0.17 and 0.18.\n",
    "For the `fit_model` function in the code cell below, you will need to implement the following:\n",
    "- Use [`DecisionTreeRegressor`](http://scikit-learn.org/stable/modules/generated/sklearn.tree.DecisionTreeRegressor.html) from `sklearn.tree` to create a decision tree regressor object.\n",
    "  - Assign this object to the `'regressor'` variable.\n",
    "- Create a dictionary for `'max_depth'` with the values from 1 to 10, and assign this to the `'params'` variable.\n",
    "- Use [`make_scorer`](http://scikit-learn.org/stable/modules/generated/sklearn.metrics.make_scorer.html) from `sklearn.metrics` to create a scoring function object.\n",
    "  - Pass the `performance_metric` function as a parameter to the object.\n",
    "  - Assign this scoring function to the `'scoring_fnc'` variable.\n",
    "- Use [`GridSearchCV`](http://scikit-learn.org/0.17/modules/generated/sklearn.grid_search.GridSearchCV.html) from `sklearn.grid_search` to create a grid search object.\n",
    "  - Pass the variables `'regressor'`, `'params'`, `'scoring_fnc'`, and `'cv_sets'` as parameters to the object. \n",
    "  - Assign the `GridSearchCV` object to the `'grid'` variable."
   ]
  },
  {
   "cell_type": "code",
   "execution_count": null,
   "metadata": {
    "collapsed": true
   },
   "outputs": [],
   "source": [
    "# TODO: Import 'make_scorer', 'DecisionTreeRegressor', and 'GridSearchCV'\n",
    "\n",
    "def fit_model(X, y):\n",
    "    \"\"\" Performs grid search over the 'max_depth' parameter for a \n",
    "        decision tree regressor trained on the input data [X, y]. \"\"\"\n",
    "    \n",
    "    # Create cross-validation sets from the training data\n",
    "    # sklearn version 0.18: ShuffleSplit(n_splits=10, test_size=0.1, train_size=None, random_state=None)\n",
    "    # sklearn versiin 0.17: ShuffleSplit(n, n_iter=10, test_size=0.1, train_size=None, random_state=None)\n",
    "    cv_sets = ShuffleSplit(X.shape[0], n_iter = 10, test_size = 0.20, random_state = 0)\n",
    "\n",
    "    # TODO: Create a decision tree regressor object\n",
    "    regressor = None\n",
    "\n",
    "    # TODO: Create a dictionary for the parameter 'max_depth' with a range from 1 to 10\n",
    "    params = {}\n",
    "\n",
    "    # TODO: Transform 'performance_metric' into a scoring function using 'make_scorer' \n",
    "    scoring_fnc = None\n",
    "\n",
    "    # TODO: Create the grid search cv object --> GridSearchCV()\n",
    "    # Make sure to include the right parameters in the object:\n",
    "    # (estimator, param_grid, scoring, cv) which have values 'regressor', 'params', 'scoring_fnc', and 'cv_sets' respectively.\n",
    "    grid = None\n",
    "\n",
    "    # Fit the grid search object to the data to compute the optimal model\n",
    "    grid = grid.fit(X, y)\n",
    "\n",
    "    # Return the optimal model after fitting the data\n",
    "    return grid.best_estimator_"
   ]
  },
  {
   "cell_type": "markdown",
   "metadata": {},
   "source": [
    "### Making Predictions\n",
    "Once a model has been trained on a given set of data, it can now be used to make predictions on new sets of input data. In the case of a *decision tree regressor*, the model has learned *what the best questions to ask about the input data are*, and can respond with a prediction for the **target variable**. You can use these predictions to gain information about data where the value of the target variable is unknown — such as data the model was not trained on."
   ]
  },
  {
   "cell_type": "markdown",
   "metadata": {},
   "source": [
    "### Question 9 - Optimal Model\n",
    "\n",
    "* What maximum depth does the optimal model have? How does this result compare to your guess in **Question 6**?  \n",
    "\n",
    "Run the code block below to fit the decision tree regressor to the training data and produce an optimal model."
   ]
  },
  {
   "cell_type": "code",
   "execution_count": null,
   "metadata": {
    "collapsed": true,
    "scrolled": true
   },
   "outputs": [],
   "source": [
    "# Fit the training data to the model using grid search\n",
    "reg = fit_model(X_train, y_train)\n",
    "\n",
    "# Produce the value for 'max_depth'\n",
    "print(\"Parameter 'max_depth' is {} for the optimal model.\".format(reg.get_params()['max_depth']))"
   ]
  },
  {
   "cell_type": "markdown",
   "metadata": {},
   "source": [
    "** Hint: ** The answer comes from the output of the code snipped above.\n",
    "\n",
    "**Answer: **"
   ]
  },
  {
   "cell_type": "markdown",
   "metadata": {},
   "source": [
    "### Question 10 - Predicting Selling Prices\n",
    "Imagine that you were a real estate agent in the Boston area looking to use this model to help price homes owned by your clients that they wish to sell. You have collected the following information from three of your clients:\n",
    "\n",
    "| Feature | Client 1 | Client 2 | Client 3 |\n",
    "| :---: | :---: | :---: | :---: |\n",
    "| Total number of rooms in home | 5 rooms | 4 rooms | 8 rooms |\n",
    "| Neighborhood poverty level (as %) | 17% | 32% | 3% |\n",
    "| Student-teacher ratio of nearby schools | 15-to-1 | 22-to-1 | 12-to-1 |\n",
    "\n",
    "* What price would you recommend each client sell his/her home at? \n",
    "* Do these prices seem reasonable given the values for the respective features? \n",
    "\n",
    "**Hint:** Use the statistics you calculated in the **Data Exploration** section to help justify your response.  Of the three clients, client 3 has has the biggest house, in the best public school neighborhood with the lowest poverty level; while client 2 has the smallest house, in a neighborhood with a relatively high poverty rate and not the best public schools.\n",
    "\n",
    "Run the code block below to have your optimized model make predictions for each client's home."
   ]
  },
  {
   "cell_type": "code",
   "execution_count": null,
   "metadata": {
    "collapsed": true
   },
   "outputs": [],
   "source": [
    "# Produce a matrix for client data\n",
    "client_data = [[5, 17, 15], # Client 1\n",
    "               [4, 32, 22], # Client 2\n",
    "               [8, 3, 12]]  # Client 3\n",
    "\n",
    "# Show predictions\n",
    "for i, price in enumerate(reg.predict(client_data)):\n",
    "    print(\"Predicted selling price for Client {}'s home: ${:,.2f}\".format(i+1, price))"
   ]
  },
  {
   "cell_type": "markdown",
   "metadata": {},
   "source": [
    "**Answer: **"
   ]
  },
  {
   "cell_type": "markdown",
   "metadata": {},
   "source": [
    "### Sensitivity\n",
    "An optimal model is not necessarily a robust model. Sometimes, a model is either too complex or too simple to sufficiently generalize to new data. Sometimes, a model could use a learning algorithm that is not appropriate for the structure of the data given. Other times, the data itself could be too noisy or contain too few samples to allow a model to adequately capture the target variable — i.e., the model is underfitted. \n",
    "\n",
    "**Run the code cell below to run the `fit_model` function ten times with different training and testing sets to see how the prediction for a specific client changes with respect to the data it's trained on.**"
   ]
  },
  {
   "cell_type": "code",
   "execution_count": null,
   "metadata": {
    "collapsed": true
   },
   "outputs": [],
   "source": [
    "vs.PredictTrials(features, prices, fit_model, client_data)"
   ]
  },
  {
   "cell_type": "markdown",
   "metadata": {},
   "source": [
    "### Question 11 - Applicability\n",
    "\n",
    "* In a few sentences, discuss whether the constructed model should or should not be used in a real-world setting.  \n",
    "\n",
    "**Hint:** Take a look at the range in prices as calculated in the code snippet above. Some questions to answering:\n",
    "- How relevant today is data that was collected from 1978? How important is inflation?\n",
    "- Are the features present in the data sufficient to describe a home? Do you think factors like quality of apppliances in the home, square feet of the plot area, presence of pool or not etc should factor in?\n",
    "- Is the model robust enough to make consistent predictions?\n",
    "- Would data collected in an urban city like Boston be applicable in a rural city?\n",
    "- Is it fair to judge the price of an individual home based on the characteristics of the entire neighborhood?"
   ]
  },
  {
   "cell_type": "markdown",
   "metadata": {},
   "source": [
    "**Answer: **"
   ]
  },
  {
   "cell_type": "markdown",
   "metadata": {},
   "source": [
    "> **Note**: Once you have completed all of the code implementations and successfully answered each question above, you may finalize your work by exporting the iPython Notebook as an HTML document. You can do this by using the menu above and navigating to  \n",
    "**File -> Download as -> HTML (.html)**. Include the finished document along with this notebook as your submission."
   ]
  },
  {
   "cell_type": "code",
   "execution_count": 27,
   "metadata": {},
   "outputs": [
    {
     "name": "stdout",
     "output_type": "stream",
     "text": [
      "Collecting scikit-learn\n",
      "  Downloading https://files.pythonhosted.org/packages/25/b6/454cf208be93efa3db50ce06b732328c57ede005d1dcfa71d9a1548530b0/scikit-learn-0.19.2.tar.gz (9.7MB)\n",
      "Skipping bdist_wheel for scikit-learn, due to binaries being disabled for it.\n",
      "Installing collected packages: scikit-learn\n",
      "  Running setup.py install for scikit-learn: started\n",
      "    Running setup.py install for scikit-learn: finished with status 'error'\n",
      "    Complete output from command C:\\ProgramData\\Anaconda3x\\python.exe -u -c \"import setuptools, tokenize;__file__='c:\\\\temp\\\\pip-build-6cd4etel\\\\scikit-learn\\\\setup.py';f=getattr(tokenize, 'open', open)(__file__);code=f.read().replace('\\r\\n', '\\n');f.close();exec(compile(code, __file__, 'exec'))\" install --record c:\\temp\\pip-l79trxmi-record\\install-record.txt --single-version-externally-managed --compile --prefix= --user --prefix=:\n",
      "    Partial import of sklearn during the build process.\n",
      "    blas_opt_info:\n",
      "    blas_mkl_info:\n",
      "      libraries mkl_core_dll,mkl_intel_lp64_dll,mkl_intel_thread_dll not found in ['C:/ProgramData/Anaconda3x\\\\Library\\\\lib']\n",
      "      NOT AVAILABLE\n",
      "    \n",
      "    blis_info:\n",
      "      libraries blis not found in ['C:\\\\ProgramData\\\\Anaconda3x\\\\lib', 'C:\\\\', 'C:\\\\ProgramData\\\\Anaconda3x\\\\libs']\n",
      "      NOT AVAILABLE\n",
      "    \n",
      "    openblas_info:\n",
      "      libraries openblas not found in ['C:\\\\ProgramData\\\\Anaconda3x\\\\lib', 'C:\\\\', 'C:\\\\ProgramData\\\\Anaconda3x\\\\libs']\n",
      "      NOT AVAILABLE\n",
      "    \n",
      "    atlas_3_10_blas_threads_info:\n",
      "    Setting PTATLAS=ATLAS\n",
      "      libraries tatlas not found in ['C:\\\\ProgramData\\\\Anaconda3x\\\\lib', 'C:\\\\', 'C:\\\\ProgramData\\\\Anaconda3x\\\\libs']\n",
      "      NOT AVAILABLE\n",
      "    \n",
      "    atlas_3_10_blas_info:\n",
      "      libraries satlas not found in ['C:\\\\ProgramData\\\\Anaconda3x\\\\lib', 'C:\\\\', 'C:\\\\ProgramData\\\\Anaconda3x\\\\libs']\n",
      "      NOT AVAILABLE\n",
      "    \n",
      "    atlas_blas_threads_info:\n",
      "    Setting PTATLAS=ATLAS\n",
      "      libraries ptf77blas,ptcblas,atlas not found in ['C:\\\\ProgramData\\\\Anaconda3x\\\\lib', 'C:\\\\', 'C:\\\\ProgramData\\\\Anaconda3x\\\\libs']\n",
      "      NOT AVAILABLE\n",
      "    \n",
      "    atlas_blas_info:\n",
      "      libraries f77blas,cblas,atlas not found in ['C:\\\\ProgramData\\\\Anaconda3x\\\\lib', 'C:\\\\', 'C:\\\\ProgramData\\\\Anaconda3x\\\\libs']\n",
      "      NOT AVAILABLE\n",
      "    \n",
      "    C:\\ProgramData\\Anaconda3x\\lib\\site-packages\\numpy\\distutils\\system_info.py:572: UserWarning:\n",
      "        Atlas (http://math-atlas.sourceforge.net/) libraries not found.\n",
      "        Directories to search for the libraries can be specified in the\n",
      "        numpy/distutils/site.cfg file (section [atlas]) or by setting\n",
      "        the ATLAS environment variable.\n",
      "      self.calc_info()\n",
      "    blas_info:\n",
      "      libraries blas not found in ['C:\\\\ProgramData\\\\Anaconda3x\\\\lib', 'C:\\\\', 'C:\\\\ProgramData\\\\Anaconda3x\\\\libs']\n",
      "      NOT AVAILABLE\n",
      "    \n",
      "    C:\\ProgramData\\Anaconda3x\\lib\\site-packages\\numpy\\distutils\\system_info.py:572: UserWarning:\n",
      "        Blas (http://www.netlib.org/blas/) libraries not found.\n",
      "        Directories to search for the libraries can be specified in the\n",
      "        numpy/distutils/site.cfg file (section [blas]) or by setting\n",
      "        the BLAS environment variable.\n",
      "      self.calc_info()\n",
      "    blas_src_info:\n",
      "      NOT AVAILABLE\n",
      "    \n",
      "    C:\\ProgramData\\Anaconda3x\\lib\\site-packages\\numpy\\distutils\\system_info.py:572: UserWarning:\n",
      "        Blas (http://www.netlib.org/blas/) sources not found.\n",
      "        Directories to search for the sources can be specified in the\n",
      "        numpy/distutils/site.cfg file (section [blas_src]) or by setting\n",
      "        the BLAS_SRC environment variable.\n",
      "      self.calc_info()\n",
      "      NOT AVAILABLE\n",
      "    \n",
      "    sklearn\\setup.py:71: UserWarning:\n",
      "        Blas (http://www.netlib.org/blas/) libraries not found.\n",
      "        Directories to search for the libraries can be specified in the\n",
      "        numpy/distutils/site.cfg file (section [blas]) or by setting\n",
      "        the BLAS environment variable.\n",
      "      warnings.warn(BlasNotFoundError.__doc__)\n",
      "    running install\n",
      "    running build\n",
      "    running config_cc\n",
      "    unifing config_cc, config, build_clib, build_ext, build commands --compiler options\n",
      "    running config_fc\n",
      "    unifing config_fc, config, build_clib, build_ext, build commands --fcompiler options\n",
      "    running build_src\n",
      "    build_src\n",
      "    building library \"libsvm-skl\" sources\n",
      "    building library \"cblas\" sources\n",
      "    building extension \"sklearn.__check_build._check_build\" sources\n",
      "    building extension \"sklearn.cluster._dbscan_inner\" sources\n",
      "    building extension \"sklearn.cluster._hierarchical\" sources\n",
      "    building extension \"sklearn.cluster._k_means_elkan\" sources\n",
      "    building extension \"sklearn.cluster._k_means\" sources\n",
      "    building extension \"sklearn.datasets._svmlight_format\" sources\n",
      "    building extension \"sklearn.decomposition._online_lda\" sources\n",
      "    building extension \"sklearn.decomposition.cdnmf_fast\" sources\n",
      "    building extension \"sklearn.ensemble._gradient_boosting\" sources\n",
      "    building extension \"sklearn.feature_extraction._hashing\" sources\n",
      "    building extension \"sklearn.manifold._utils\" sources\n",
      "    building extension \"sklearn.manifold._barnes_hut_tsne\" sources\n",
      "    building extension \"sklearn.metrics.cluster.expected_mutual_info_fast\" sources\n",
      "    building extension \"sklearn.metrics.pairwise_fast\" sources\n",
      "    building extension \"sklearn.neighbors.ball_tree\" sources\n",
      "    building extension \"sklearn.neighbors.kd_tree\" sources\n",
      "    building extension \"sklearn.neighbors.dist_metrics\" sources\n",
      "    building extension \"sklearn.neighbors.typedefs\" sources\n",
      "    building extension \"sklearn.neighbors.quad_tree\" sources\n",
      "    building extension \"sklearn.tree._tree\" sources\n",
      "    building extension \"sklearn.tree._splitter\" sources\n",
      "    building extension \"sklearn.tree._criterion\" sources\n",
      "    building extension \"sklearn.tree._utils\" sources\n",
      "    building extension \"sklearn.svm.libsvm\" sources\n",
      "    building extension \"sklearn.svm.liblinear\" sources\n",
      "    building extension \"sklearn.svm.libsvm_sparse\" sources\n",
      "    building extension \"sklearn._isotonic\" sources\n",
      "    building extension \"sklearn.linear_model.cd_fast\" sources\n",
      "    building extension \"sklearn.linear_model.sgd_fast\" sources\n",
      "    building extension \"sklearn.linear_model.sag_fast\" sources\n",
      "    building extension \"sklearn.utils.sparsefuncs_fast\" sources\n",
      "    building extension \"sklearn.utils.arrayfuncs\" sources\n",
      "    building extension \"sklearn.utils.murmurhash\" sources\n",
      "    building extension \"sklearn.utils.lgamma\" sources\n",
      "    building extension \"sklearn.utils.graph_shortest_path\" sources\n",
      "    building extension \"sklearn.utils.fast_dict\" sources\n",
      "    building extension \"sklearn.utils.seq_dataset\" sources\n",
      "    building extension \"sklearn.utils.weight_vector\" sources\n",
      "    building extension \"sklearn.utils._random\" sources\n",
      "    building extension \"sklearn.utils._logistic_sigmoid\" sources\n",
      "    building data_files sources\n",
      "    build_src: building npy-pkg config files\n",
      "    running build_py\n",
      "    creating build\n",
      "    creating build\\lib.win-amd64-3.6\n",
      "    creating build\\lib.win-amd64-3.6\\sklearn\n",
      "    copying sklearn\\base.py -> build\\lib.win-amd64-3.6\\sklearn\n",
      "    copying sklearn\\calibration.py -> build\\lib.win-amd64-3.6\\sklearn\n",
      "    copying sklearn\\cross_validation.py -> build\\lib.win-amd64-3.6\\sklearn\n",
      "    copying sklearn\\discriminant_analysis.py -> build\\lib.win-amd64-3.6\\sklearn\n",
      "    copying sklearn\\dummy.py -> build\\lib.win-amd64-3.6\\sklearn\n",
      "    copying sklearn\\exceptions.py -> build\\lib.win-amd64-3.6\\sklearn\n",
      "    copying sklearn\\grid_search.py -> build\\lib.win-amd64-3.6\\sklearn\n",
      "    copying sklearn\\isotonic.py -> build\\lib.win-amd64-3.6\\sklearn\n",
      "    copying sklearn\\kernel_approximation.py -> build\\lib.win-amd64-3.6\\sklearn\n",
      "    copying sklearn\\kernel_ridge.py -> build\\lib.win-amd64-3.6\\sklearn\n",
      "    copying sklearn\\learning_curve.py -> build\\lib.win-amd64-3.6\\sklearn\n",
      "    copying sklearn\\multiclass.py -> build\\lib.win-amd64-3.6\\sklearn\n",
      "    copying sklearn\\multioutput.py -> build\\lib.win-amd64-3.6\\sklearn\n",
      "    copying sklearn\\naive_bayes.py -> build\\lib.win-amd64-3.6\\sklearn\n",
      "    copying sklearn\\pipeline.py -> build\\lib.win-amd64-3.6\\sklearn\n",
      "    copying sklearn\\random_projection.py -> build\\lib.win-amd64-3.6\\sklearn\n",
      "    copying sklearn\\setup.py -> build\\lib.win-amd64-3.6\\sklearn\n",
      "    copying sklearn\\__init__.py -> build\\lib.win-amd64-3.6\\sklearn\n",
      "    creating build\\lib.win-amd64-3.6\\sklearn\\__check_build\n",
      "    copying sklearn\\__check_build\\setup.py -> build\\lib.win-amd64-3.6\\sklearn\\__check_build\n",
      "    copying sklearn\\__check_build\\__init__.py -> build\\lib.win-amd64-3.6\\sklearn\\__check_build\n",
      "    creating build\\lib.win-amd64-3.6\\sklearn\\_build_utils\n",
      "    copying sklearn\\_build_utils\\__init__.py -> build\\lib.win-amd64-3.6\\sklearn\\_build_utils\n",
      "    creating build\\lib.win-amd64-3.6\\sklearn\\covariance\n",
      "    copying sklearn\\covariance\\empirical_covariance_.py -> build\\lib.win-amd64-3.6\\sklearn\\covariance\n",
      "    copying sklearn\\covariance\\graph_lasso_.py -> build\\lib.win-amd64-3.6\\sklearn\\covariance\n",
      "    copying sklearn\\covariance\\outlier_detection.py -> build\\lib.win-amd64-3.6\\sklearn\\covariance\n",
      "    copying sklearn\\covariance\\robust_covariance.py -> build\\lib.win-amd64-3.6\\sklearn\\covariance\n",
      "    copying sklearn\\covariance\\shrunk_covariance_.py -> build\\lib.win-amd64-3.6\\sklearn\\covariance\n",
      "    copying sklearn\\covariance\\__init__.py -> build\\lib.win-amd64-3.6\\sklearn\\covariance\n",
      "    creating build\\lib.win-amd64-3.6\\sklearn\\covariance\\tests\n",
      "    copying sklearn\\covariance\\tests\\test_covariance.py -> build\\lib.win-amd64-3.6\\sklearn\\covariance/tests\n",
      "    copying sklearn\\covariance\\tests\\test_graph_lasso.py -> build\\lib.win-amd64-3.6\\sklearn\\covariance/tests\n",
      "    copying sklearn\\covariance\\tests\\test_robust_covariance.py -> build\\lib.win-amd64-3.6\\sklearn\\covariance/tests\n",
      "    copying sklearn\\covariance\\tests\\__init__.py -> build\\lib.win-amd64-3.6\\sklearn\\covariance/tests\n",
      "    creating build\\lib.win-amd64-3.6\\sklearn\\cross_decomposition\n",
      "    copying sklearn\\cross_decomposition\\cca_.py -> build\\lib.win-amd64-3.6\\sklearn\\cross_decomposition\n",
      "    copying sklearn\\cross_decomposition\\pls_.py -> build\\lib.win-amd64-3.6\\sklearn\\cross_decomposition\n",
      "    copying sklearn\\cross_decomposition\\__init__.py -> build\\lib.win-amd64-3.6\\sklearn\\cross_decomposition\n",
      "    creating build\\lib.win-amd64-3.6\\sklearn\\cross_decomposition\\tests\n",
      "    copying sklearn\\cross_decomposition\\tests\\test_pls.py -> build\\lib.win-amd64-3.6\\sklearn\\cross_decomposition/tests\n",
      "    copying sklearn\\cross_decomposition\\tests\\__init__.py -> build\\lib.win-amd64-3.6\\sklearn\\cross_decomposition/tests\n",
      "    creating build\\lib.win-amd64-3.6\\sklearn\\feature_selection\n",
      "    copying sklearn\\feature_selection\\base.py -> build\\lib.win-amd64-3.6\\sklearn\\feature_selection\n",
      "    copying sklearn\\feature_selection\\from_model.py -> build\\lib.win-amd64-3.6\\sklearn\\feature_selection\n",
      "    copying sklearn\\feature_selection\\mutual_info_.py -> build\\lib.win-amd64-3.6\\sklearn\\feature_selection\n",
      "    copying sklearn\\feature_selection\\rfe.py -> build\\lib.win-amd64-3.6\\sklearn\\feature_selection\n",
      "    copying sklearn\\feature_selection\\univariate_selection.py -> build\\lib.win-amd64-3.6\\sklearn\\feature_selection\n",
      "    copying sklearn\\feature_selection\\variance_threshold.py -> build\\lib.win-amd64-3.6\\sklearn\\feature_selection\n",
      "    copying sklearn\\feature_selection\\__init__.py -> build\\lib.win-amd64-3.6\\sklearn\\feature_selection\n",
      "    creating build\\lib.win-amd64-3.6\\sklearn\\feature_selection\\tests\n",
      "    copying sklearn\\feature_selection\\tests\\test_base.py -> build\\lib.win-amd64-3.6\\sklearn\\feature_selection/tests\n",
      "    copying sklearn\\feature_selection\\tests\\test_chi2.py -> build\\lib.win-amd64-3.6\\sklearn\\feature_selection/tests\n",
      "    copying sklearn\\feature_selection\\tests\\test_feature_select.py -> build\\lib.win-amd64-3.6\\sklearn\\feature_selection/tests\n",
      "    copying sklearn\\feature_selection\\tests\\test_from_model.py -> build\\lib.win-amd64-3.6\\sklearn\\feature_selection/tests\n",
      "    copying sklearn\\feature_selection\\tests\\test_mutual_info.py -> build\\lib.win-amd64-3.6\\sklearn\\feature_selection/tests\n",
      "    copying sklearn\\feature_selection\\tests\\test_rfe.py -> build\\lib.win-amd64-3.6\\sklearn\\feature_selection/tests\n",
      "    copying sklearn\\feature_selection\\tests\\test_variance_threshold.py -> build\\lib.win-amd64-3.6\\sklearn\\feature_selection/tests\n",
      "    copying sklearn\\feature_selection\\tests\\__init__.py -> build\\lib.win-amd64-3.6\\sklearn\\feature_selection/tests\n",
      "    creating build\\lib.win-amd64-3.6\\sklearn\\gaussian_process\n",
      "    copying sklearn\\gaussian_process\\correlation_models.py -> build\\lib.win-amd64-3.6\\sklearn\\gaussian_process\n",
      "    copying sklearn\\gaussian_process\\gaussian_process.py -> build\\lib.win-amd64-3.6\\sklearn\\gaussian_process\n",
      "    copying sklearn\\gaussian_process\\gpc.py -> build\\lib.win-amd64-3.6\\sklearn\\gaussian_process\n",
      "    copying sklearn\\gaussian_process\\gpr.py -> build\\lib.win-amd64-3.6\\sklearn\\gaussian_process\n",
      "    copying sklearn\\gaussian_process\\kernels.py -> build\\lib.win-amd64-3.6\\sklearn\\gaussian_process\n",
      "    copying sklearn\\gaussian_process\\regression_models.py -> build\\lib.win-amd64-3.6\\sklearn\\gaussian_process\n",
      "    copying sklearn\\gaussian_process\\__init__.py -> build\\lib.win-amd64-3.6\\sklearn\\gaussian_process\n",
      "    creating build\\lib.win-amd64-3.6\\sklearn\\gaussian_process\\tests\n",
      "    copying sklearn\\gaussian_process\\tests\\test_gaussian_process.py -> build\\lib.win-amd64-3.6\\sklearn\\gaussian_process/tests\n",
      "    copying sklearn\\gaussian_process\\tests\\test_gpc.py -> build\\lib.win-amd64-3.6\\sklearn\\gaussian_process/tests\n",
      "    copying sklearn\\gaussian_process\\tests\\test_gpr.py -> build\\lib.win-amd64-3.6\\sklearn\\gaussian_process/tests\n",
      "    copying sklearn\\gaussian_process\\tests\\test_kernels.py -> build\\lib.win-amd64-3.6\\sklearn\\gaussian_process/tests\n",
      "    copying sklearn\\gaussian_process\\tests\\__init__.py -> build\\lib.win-amd64-3.6\\sklearn\\gaussian_process/tests\n",
      "    creating build\\lib.win-amd64-3.6\\sklearn\\mixture\n",
      "    copying sklearn\\mixture\\base.py -> build\\lib.win-amd64-3.6\\sklearn\\mixture\n",
      "    copying sklearn\\mixture\\bayesian_mixture.py -> build\\lib.win-amd64-3.6\\sklearn\\mixture\n",
      "    copying sklearn\\mixture\\dpgmm.py -> build\\lib.win-amd64-3.6\\sklearn\\mixture\n",
      "    copying sklearn\\mixture\\gaussian_mixture.py -> build\\lib.win-amd64-3.6\\sklearn\\mixture\n",
      "    copying sklearn\\mixture\\gmm.py -> build\\lib.win-amd64-3.6\\sklearn\\mixture\n",
      "    copying sklearn\\mixture\\__init__.py -> build\\lib.win-amd64-3.6\\sklearn\\mixture\n",
      "    creating build\\lib.win-amd64-3.6\\sklearn\\mixture\\tests\n",
      "    copying sklearn\\mixture\\tests\\test_bayesian_mixture.py -> build\\lib.win-amd64-3.6\\sklearn\\mixture/tests\n",
      "    copying sklearn\\mixture\\tests\\test_dpgmm.py -> build\\lib.win-amd64-3.6\\sklearn\\mixture/tests\n",
      "    copying sklearn\\mixture\\tests\\test_gaussian_mixture.py -> build\\lib.win-amd64-3.6\\sklearn\\mixture/tests\n",
      "    copying sklearn\\mixture\\tests\\test_gmm.py -> build\\lib.win-amd64-3.6\\sklearn\\mixture/tests\n",
      "    copying sklearn\\mixture\\tests\\__init__.py -> build\\lib.win-amd64-3.6\\sklearn\\mixture/tests\n",
      "    creating build\\lib.win-amd64-3.6\\sklearn\\model_selection\n",
      "    copying sklearn\\model_selection\\_search.py -> build\\lib.win-amd64-3.6\\sklearn\\model_selection\n",
      "    copying sklearn\\model_selection\\_split.py -> build\\lib.win-amd64-3.6\\sklearn\\model_selection\n",
      "    copying sklearn\\model_selection\\_validation.py -> build\\lib.win-amd64-3.6\\sklearn\\model_selection\n",
      "    copying sklearn\\model_selection\\__init__.py -> build\\lib.win-amd64-3.6\\sklearn\\model_selection\n",
      "    creating build\\lib.win-amd64-3.6\\sklearn\\model_selection\\tests\n",
      "    copying sklearn\\model_selection\\tests\\common.py -> build\\lib.win-amd64-3.6\\sklearn\\model_selection/tests\n",
      "    copying sklearn\\model_selection\\tests\\test_search.py -> build\\lib.win-amd64-3.6\\sklearn\\model_selection/tests\n",
      "    copying sklearn\\model_selection\\tests\\test_split.py -> build\\lib.win-amd64-3.6\\sklearn\\model_selection/tests\n",
      "    copying sklearn\\model_selection\\tests\\test_validation.py -> build\\lib.win-amd64-3.6\\sklearn\\model_selection/tests\n",
      "    copying sklearn\\model_selection\\tests\\__init__.py -> build\\lib.win-amd64-3.6\\sklearn\\model_selection/tests\n",
      "    creating build\\lib.win-amd64-3.6\\sklearn\\neural_network\n",
      "    copying sklearn\\neural_network\\multilayer_perceptron.py -> build\\lib.win-amd64-3.6\\sklearn\\neural_network\n",
      "    copying sklearn\\neural_network\\rbm.py -> build\\lib.win-amd64-3.6\\sklearn\\neural_network\n",
      "    copying sklearn\\neural_network\\_base.py -> build\\lib.win-amd64-3.6\\sklearn\\neural_network\n",
      "    copying sklearn\\neural_network\\_stochastic_optimizers.py -> build\\lib.win-amd64-3.6\\sklearn\\neural_network\n",
      "    copying sklearn\\neural_network\\__init__.py -> build\\lib.win-amd64-3.6\\sklearn\\neural_network\n",
      "    creating build\\lib.win-amd64-3.6\\sklearn\\neural_network\\tests\n",
      "    copying sklearn\\neural_network\\tests\\test_mlp.py -> build\\lib.win-amd64-3.6\\sklearn\\neural_network/tests\n",
      "    copying sklearn\\neural_network\\tests\\test_rbm.py -> build\\lib.win-amd64-3.6\\sklearn\\neural_network/tests\n",
      "    copying sklearn\\neural_network\\tests\\test_stochastic_optimizers.py -> build\\lib.win-amd64-3.6\\sklearn\\neural_network/tests\n",
      "    copying sklearn\\neural_network\\tests\\__init__.py -> build\\lib.win-amd64-3.6\\sklearn\\neural_network/tests\n",
      "    creating build\\lib.win-amd64-3.6\\sklearn\\preprocessing\n",
      "    copying sklearn\\preprocessing\\data.py -> build\\lib.win-amd64-3.6\\sklearn\\preprocessing\n",
      "    copying sklearn\\preprocessing\\imputation.py -> build\\lib.win-amd64-3.6\\sklearn\\preprocessing\n",
      "    copying sklearn\\preprocessing\\label.py -> build\\lib.win-amd64-3.6\\sklearn\\preprocessing\n",
      "    copying sklearn\\preprocessing\\_function_transformer.py -> build\\lib.win-amd64-3.6\\sklearn\\preprocessing\n",
      "    copying sklearn\\preprocessing\\__init__.py -> build\\lib.win-amd64-3.6\\sklearn\\preprocessing\n",
      "    creating build\\lib.win-amd64-3.6\\sklearn\\preprocessing\\tests\n",
      "    copying sklearn\\preprocessing\\tests\\test_data.py -> build\\lib.win-amd64-3.6\\sklearn\\preprocessing/tests\n",
      "    copying sklearn\\preprocessing\\tests\\test_function_transformer.py -> build\\lib.win-amd64-3.6\\sklearn\\preprocessing/tests\n",
      "    copying sklearn\\preprocessing\\tests\\test_imputation.py -> build\\lib.win-amd64-3.6\\sklearn\\preprocessing/tests\n",
      "    copying sklearn\\preprocessing\\tests\\test_label.py -> build\\lib.win-amd64-3.6\\sklearn\\preprocessing/tests\n",
      "    copying sklearn\\preprocessing\\tests\\__init__.py -> build\\lib.win-amd64-3.6\\sklearn\\preprocessing/tests\n",
      "    creating build\\lib.win-amd64-3.6\\sklearn\\semi_supervised\n",
      "    copying sklearn\\semi_supervised\\label_propagation.py -> build\\lib.win-amd64-3.6\\sklearn\\semi_supervised\n",
      "    copying sklearn\\semi_supervised\\__init__.py -> build\\lib.win-amd64-3.6\\sklearn\\semi_supervised\n",
      "    creating build\\lib.win-amd64-3.6\\sklearn\\semi_supervised\\tests\n",
      "    copying sklearn\\semi_supervised\\tests\\test_label_propagation.py -> build\\lib.win-amd64-3.6\\sklearn\\semi_supervised/tests\n",
      "    copying sklearn\\semi_supervised\\tests\\__init__.py -> build\\lib.win-amd64-3.6\\sklearn\\semi_supervised/tests\n",
      "    creating build\\lib.win-amd64-3.6\\sklearn\\cluster\n",
      "    copying sklearn\\cluster\\affinity_propagation_.py -> build\\lib.win-amd64-3.6\\sklearn\\cluster\n",
      "    copying sklearn\\cluster\\bicluster.py -> build\\lib.win-amd64-3.6\\sklearn\\cluster\n",
      "    copying sklearn\\cluster\\birch.py -> build\\lib.win-amd64-3.6\\sklearn\\cluster\n",
      "    copying sklearn\\cluster\\dbscan_.py -> build\\lib.win-amd64-3.6\\sklearn\\cluster\n",
      "    copying sklearn\\cluster\\hierarchical.py -> build\\lib.win-amd64-3.6\\sklearn\\cluster\n",
      "    copying sklearn\\cluster\\k_means_.py -> build\\lib.win-amd64-3.6\\sklearn\\cluster\n",
      "    copying sklearn\\cluster\\mean_shift_.py -> build\\lib.win-amd64-3.6\\sklearn\\cluster\n",
      "    copying sklearn\\cluster\\setup.py -> build\\lib.win-amd64-3.6\\sklearn\\cluster\n",
      "    copying sklearn\\cluster\\spectral.py -> build\\lib.win-amd64-3.6\\sklearn\\cluster\n",
      "    copying sklearn\\cluster\\_feature_agglomeration.py -> build\\lib.win-amd64-3.6\\sklearn\\cluster\n",
      "    copying sklearn\\cluster\\__init__.py -> build\\lib.win-amd64-3.6\\sklearn\\cluster\n",
      "    creating build\\lib.win-amd64-3.6\\sklearn\\cluster\\tests\n",
      "    copying sklearn\\cluster\\tests\\common.py -> build\\lib.win-amd64-3.6\\sklearn\\cluster\\tests\n",
      "    copying sklearn\\cluster\\tests\\test_affinity_propagation.py -> build\\lib.win-amd64-3.6\\sklearn\\cluster\\tests\n",
      "    copying sklearn\\cluster\\tests\\test_bicluster.py -> build\\lib.win-amd64-3.6\\sklearn\\cluster\\tests\n",
      "    copying sklearn\\cluster\\tests\\test_birch.py -> build\\lib.win-amd64-3.6\\sklearn\\cluster\\tests\n",
      "    copying sklearn\\cluster\\tests\\test_dbscan.py -> build\\lib.win-amd64-3.6\\sklearn\\cluster\\tests\n",
      "    copying sklearn\\cluster\\tests\\test_hierarchical.py -> build\\lib.win-amd64-3.6\\sklearn\\cluster\\tests\n",
      "    copying sklearn\\cluster\\tests\\test_k_means.py -> build\\lib.win-amd64-3.6\\sklearn\\cluster\\tests\n",
      "    copying sklearn\\cluster\\tests\\test_mean_shift.py -> build\\lib.win-amd64-3.6\\sklearn\\cluster\\tests\n",
      "    copying sklearn\\cluster\\tests\\test_spectral.py -> build\\lib.win-amd64-3.6\\sklearn\\cluster\\tests\n",
      "    copying sklearn\\cluster\\tests\\__init__.py -> build\\lib.win-amd64-3.6\\sklearn\\cluster\\tests\n",
      "    creating build\\lib.win-amd64-3.6\\sklearn\\datasets\n",
      "    copying sklearn\\datasets\\base.py -> build\\lib.win-amd64-3.6\\sklearn\\datasets\n",
      "    copying sklearn\\datasets\\california_housing.py -> build\\lib.win-amd64-3.6\\sklearn\\datasets\n",
      "    copying sklearn\\datasets\\covtype.py -> build\\lib.win-amd64-3.6\\sklearn\\datasets\n",
      "    copying sklearn\\datasets\\kddcup99.py -> build\\lib.win-amd64-3.6\\sklearn\\datasets\n",
      "    copying sklearn\\datasets\\lfw.py -> build\\lib.win-amd64-3.6\\sklearn\\datasets\n",
      "    copying sklearn\\datasets\\mlcomp.py -> build\\lib.win-amd64-3.6\\sklearn\\datasets\n",
      "    copying sklearn\\datasets\\mldata.py -> build\\lib.win-amd64-3.6\\sklearn\\datasets\n",
      "    copying sklearn\\datasets\\olivetti_faces.py -> build\\lib.win-amd64-3.6\\sklearn\\datasets\n",
      "    copying sklearn\\datasets\\rcv1.py -> build\\lib.win-amd64-3.6\\sklearn\\datasets\n",
      "    copying sklearn\\datasets\\samples_generator.py -> build\\lib.win-amd64-3.6\\sklearn\\datasets\n",
      "    copying sklearn\\datasets\\setup.py -> build\\lib.win-amd64-3.6\\sklearn\\datasets\n",
      "    copying sklearn\\datasets\\species_distributions.py -> build\\lib.win-amd64-3.6\\sklearn\\datasets\n",
      "    copying sklearn\\datasets\\svmlight_format.py -> build\\lib.win-amd64-3.6\\sklearn\\datasets\n",
      "    copying sklearn\\datasets\\twenty_newsgroups.py -> build\\lib.win-amd64-3.6\\sklearn\\datasets\n",
      "    copying sklearn\\datasets\\__init__.py -> build\\lib.win-amd64-3.6\\sklearn\\datasets\n",
      "    creating build\\lib.win-amd64-3.6\\sklearn\\datasets\\tests\n",
      "    copying sklearn\\datasets\\tests\\test_20news.py -> build\\lib.win-amd64-3.6\\sklearn\\datasets\\tests\n",
      "    copying sklearn\\datasets\\tests\\test_base.py -> build\\lib.win-amd64-3.6\\sklearn\\datasets\\tests\n",
      "    copying sklearn\\datasets\\tests\\test_covtype.py -> build\\lib.win-amd64-3.6\\sklearn\\datasets\\tests\n",
      "    copying sklearn\\datasets\\tests\\test_kddcup99.py -> build\\lib.win-amd64-3.6\\sklearn\\datasets\\tests\n",
      "    copying sklearn\\datasets\\tests\\test_lfw.py -> build\\lib.win-amd64-3.6\\sklearn\\datasets\\tests\n",
      "    copying sklearn\\datasets\\tests\\test_mldata.py -> build\\lib.win-amd64-3.6\\sklearn\\datasets\\tests\n",
      "    copying sklearn\\datasets\\tests\\test_rcv1.py -> build\\lib.win-amd64-3.6\\sklearn\\datasets\\tests\n",
      "    copying sklearn\\datasets\\tests\\test_samples_generator.py -> build\\lib.win-amd64-3.6\\sklearn\\datasets\\tests\n",
      "    copying sklearn\\datasets\\tests\\test_svmlight_format.py -> build\\lib.win-amd64-3.6\\sklearn\\datasets\\tests\n",
      "    copying sklearn\\datasets\\tests\\__init__.py -> build\\lib.win-amd64-3.6\\sklearn\\datasets\\tests\n",
      "    creating build\\lib.win-amd64-3.6\\sklearn\\decomposition\n",
      "    copying sklearn\\decomposition\\base.py -> build\\lib.win-amd64-3.6\\sklearn\\decomposition\n",
      "    copying sklearn\\decomposition\\dict_learning.py -> build\\lib.win-amd64-3.6\\sklearn\\decomposition\n",
      "    copying sklearn\\decomposition\\factor_analysis.py -> build\\lib.win-amd64-3.6\\sklearn\\decomposition\n",
      "    copying sklearn\\decomposition\\fastica_.py -> build\\lib.win-amd64-3.6\\sklearn\\decomposition\n",
      "    copying sklearn\\decomposition\\incremental_pca.py -> build\\lib.win-amd64-3.6\\sklearn\\decomposition\n",
      "    copying sklearn\\decomposition\\kernel_pca.py -> build\\lib.win-amd64-3.6\\sklearn\\decomposition\n",
      "    copying sklearn\\decomposition\\nmf.py -> build\\lib.win-amd64-3.6\\sklearn\\decomposition\n",
      "    copying sklearn\\decomposition\\online_lda.py -> build\\lib.win-amd64-3.6\\sklearn\\decomposition\n",
      "    copying sklearn\\decomposition\\pca.py -> build\\lib.win-amd64-3.6\\sklearn\\decomposition\n",
      "    copying sklearn\\decomposition\\setup.py -> build\\lib.win-amd64-3.6\\sklearn\\decomposition\n",
      "    copying sklearn\\decomposition\\sparse_pca.py -> build\\lib.win-amd64-3.6\\sklearn\\decomposition\n",
      "    copying sklearn\\decomposition\\truncated_svd.py -> build\\lib.win-amd64-3.6\\sklearn\\decomposition\n",
      "    copying sklearn\\decomposition\\__init__.py -> build\\lib.win-amd64-3.6\\sklearn\\decomposition\n",
      "    creating build\\lib.win-amd64-3.6\\sklearn\\decomposition\\tests\n",
      "    copying sklearn\\decomposition\\tests\\test_dict_learning.py -> build\\lib.win-amd64-3.6\\sklearn\\decomposition\\tests\n",
      "    copying sklearn\\decomposition\\tests\\test_factor_analysis.py -> build\\lib.win-amd64-3.6\\sklearn\\decomposition\\tests\n",
      "    copying sklearn\\decomposition\\tests\\test_fastica.py -> build\\lib.win-amd64-3.6\\sklearn\\decomposition\\tests\n",
      "    copying sklearn\\decomposition\\tests\\test_incremental_pca.py -> build\\lib.win-amd64-3.6\\sklearn\\decomposition\\tests\n",
      "    copying sklearn\\decomposition\\tests\\test_kernel_pca.py -> build\\lib.win-amd64-3.6\\sklearn\\decomposition\\tests\n",
      "    copying sklearn\\decomposition\\tests\\test_nmf.py -> build\\lib.win-amd64-3.6\\sklearn\\decomposition\\tests\n",
      "    copying sklearn\\decomposition\\tests\\test_online_lda.py -> build\\lib.win-amd64-3.6\\sklearn\\decomposition\\tests\n",
      "    copying sklearn\\decomposition\\tests\\test_pca.py -> build\\lib.win-amd64-3.6\\sklearn\\decomposition\\tests\n",
      "    copying sklearn\\decomposition\\tests\\test_sparse_pca.py -> build\\lib.win-amd64-3.6\\sklearn\\decomposition\\tests\n",
      "    copying sklearn\\decomposition\\tests\\test_truncated_svd.py -> build\\lib.win-amd64-3.6\\sklearn\\decomposition\\tests\n",
      "    copying sklearn\\decomposition\\tests\\__init__.py -> build\\lib.win-amd64-3.6\\sklearn\\decomposition\\tests\n",
      "    creating build\\lib.win-amd64-3.6\\sklearn\\ensemble\n",
      "    copying sklearn\\ensemble\\bagging.py -> build\\lib.win-amd64-3.6\\sklearn\\ensemble\n",
      "    copying sklearn\\ensemble\\base.py -> build\\lib.win-amd64-3.6\\sklearn\\ensemble\n",
      "    copying sklearn\\ensemble\\forest.py -> build\\lib.win-amd64-3.6\\sklearn\\ensemble\n",
      "    copying sklearn\\ensemble\\gradient_boosting.py -> build\\lib.win-amd64-3.6\\sklearn\\ensemble\n",
      "    copying sklearn\\ensemble\\iforest.py -> build\\lib.win-amd64-3.6\\sklearn\\ensemble\n",
      "    copying sklearn\\ensemble\\partial_dependence.py -> build\\lib.win-amd64-3.6\\sklearn\\ensemble\n",
      "    copying sklearn\\ensemble\\setup.py -> build\\lib.win-amd64-3.6\\sklearn\\ensemble\n",
      "    copying sklearn\\ensemble\\voting_classifier.py -> build\\lib.win-amd64-3.6\\sklearn\\ensemble\n",
      "    copying sklearn\\ensemble\\weight_boosting.py -> build\\lib.win-amd64-3.6\\sklearn\\ensemble\n",
      "    copying sklearn\\ensemble\\__init__.py -> build\\lib.win-amd64-3.6\\sklearn\\ensemble\n",
      "    creating build\\lib.win-amd64-3.6\\sklearn\\ensemble\\tests\n",
      "    copying sklearn\\ensemble\\tests\\test_bagging.py -> build\\lib.win-amd64-3.6\\sklearn\\ensemble\\tests\n",
      "    copying sklearn\\ensemble\\tests\\test_base.py -> build\\lib.win-amd64-3.6\\sklearn\\ensemble\\tests\n",
      "    copying sklearn\\ensemble\\tests\\test_forest.py -> build\\lib.win-amd64-3.6\\sklearn\\ensemble\\tests\n",
      "    copying sklearn\\ensemble\\tests\\test_gradient_boosting.py -> build\\lib.win-amd64-3.6\\sklearn\\ensemble\\tests\n",
      "    copying sklearn\\ensemble\\tests\\test_gradient_boosting_loss_functions.py -> build\\lib.win-amd64-3.6\\sklearn\\ensemble\\tests\n",
      "    copying sklearn\\ensemble\\tests\\test_iforest.py -> build\\lib.win-amd64-3.6\\sklearn\\ensemble\\tests\n",
      "    copying sklearn\\ensemble\\tests\\test_partial_dependence.py -> build\\lib.win-amd64-3.6\\sklearn\\ensemble\\tests\n",
      "    copying sklearn\\ensemble\\tests\\test_voting_classifier.py -> build\\lib.win-amd64-3.6\\sklearn\\ensemble\\tests\n",
      "    copying sklearn\\ensemble\\tests\\test_weight_boosting.py -> build\\lib.win-amd64-3.6\\sklearn\\ensemble\\tests\n",
      "    copying sklearn\\ensemble\\tests\\__init__.py -> build\\lib.win-amd64-3.6\\sklearn\\ensemble\\tests\n",
      "    creating build\\lib.win-amd64-3.6\\sklearn\\externals\n",
      "    copying sklearn\\externals\\funcsigs.py -> build\\lib.win-amd64-3.6\\sklearn\\externals\n",
      "    copying sklearn\\externals\\setup.py -> build\\lib.win-amd64-3.6\\sklearn\\externals\n",
      "    copying sklearn\\externals\\six.py -> build\\lib.win-amd64-3.6\\sklearn\\externals\n",
      "    copying sklearn\\externals\\test_externals_setup.py -> build\\lib.win-amd64-3.6\\sklearn\\externals\n",
      "    copying sklearn\\externals\\__init__.py -> build\\lib.win-amd64-3.6\\sklearn\\externals\n",
      "    creating build\\lib.win-amd64-3.6\\sklearn\\externals\\joblib\n",
      "    copying sklearn\\externals\\joblib\\backports.py -> build\\lib.win-amd64-3.6\\sklearn\\externals\\joblib\n",
      "    copying sklearn\\externals\\joblib\\disk.py -> build\\lib.win-amd64-3.6\\sklearn\\externals\\joblib\n",
      "    copying sklearn\\externals\\joblib\\format_stack.py -> build\\lib.win-amd64-3.6\\sklearn\\externals\\joblib\n",
      "    copying sklearn\\externals\\joblib\\func_inspect.py -> build\\lib.win-amd64-3.6\\sklearn\\externals\\joblib\n",
      "    copying sklearn\\externals\\joblib\\hashing.py -> build\\lib.win-amd64-3.6\\sklearn\\externals\\joblib\n",
      "    copying sklearn\\externals\\joblib\\logger.py -> build\\lib.win-amd64-3.6\\sklearn\\externals\\joblib\n",
      "    copying sklearn\\externals\\joblib\\memory.py -> build\\lib.win-amd64-3.6\\sklearn\\externals\\joblib\n",
      "    copying sklearn\\externals\\joblib\\my_exceptions.py -> build\\lib.win-amd64-3.6\\sklearn\\externals\\joblib\n",
      "    copying sklearn\\externals\\joblib\\numpy_pickle.py -> build\\lib.win-amd64-3.6\\sklearn\\externals\\joblib\n",
      "    copying sklearn\\externals\\joblib\\numpy_pickle_compat.py -> build\\lib.win-amd64-3.6\\sklearn\\externals\\joblib\n",
      "    copying sklearn\\externals\\joblib\\numpy_pickle_utils.py -> build\\lib.win-amd64-3.6\\sklearn\\externals\\joblib\n",
      "    copying sklearn\\externals\\joblib\\parallel.py -> build\\lib.win-amd64-3.6\\sklearn\\externals\\joblib\n",
      "    copying sklearn\\externals\\joblib\\pool.py -> build\\lib.win-amd64-3.6\\sklearn\\externals\\joblib\n",
      "    copying sklearn\\externals\\joblib\\_compat.py -> build\\lib.win-amd64-3.6\\sklearn\\externals\\joblib\n",
      "    copying sklearn\\externals\\joblib\\_memory_helpers.py -> build\\lib.win-amd64-3.6\\sklearn\\externals\\joblib\n",
      "    copying sklearn\\externals\\joblib\\_multiprocessing_helpers.py -> build\\lib.win-amd64-3.6\\sklearn\\externals\\joblib\n",
      "    copying sklearn\\externals\\joblib\\_parallel_backends.py -> build\\lib.win-amd64-3.6\\sklearn\\externals\\joblib\n",
      "    copying sklearn\\externals\\joblib\\__init__.py -> build\\lib.win-amd64-3.6\\sklearn\\externals\\joblib\n",
      "    creating build\\lib.win-amd64-3.6\\sklearn\\feature_extraction\n",
      "    copying sklearn\\feature_extraction\\dict_vectorizer.py -> build\\lib.win-amd64-3.6\\sklearn\\feature_extraction\n",
      "    copying sklearn\\feature_extraction\\hashing.py -> build\\lib.win-amd64-3.6\\sklearn\\feature_extraction\n",
      "    copying sklearn\\feature_extraction\\image.py -> build\\lib.win-amd64-3.6\\sklearn\\feature_extraction\n",
      "    copying sklearn\\feature_extraction\\setup.py -> build\\lib.win-amd64-3.6\\sklearn\\feature_extraction\n",
      "    copying sklearn\\feature_extraction\\stop_words.py -> build\\lib.win-amd64-3.6\\sklearn\\feature_extraction\n",
      "    copying sklearn\\feature_extraction\\text.py -> build\\lib.win-amd64-3.6\\sklearn\\feature_extraction\n",
      "    copying sklearn\\feature_extraction\\__init__.py -> build\\lib.win-amd64-3.6\\sklearn\\feature_extraction\n",
      "    creating build\\lib.win-amd64-3.6\\sklearn\\feature_extraction\\tests\n",
      "    copying sklearn\\feature_extraction\\tests\\test_dict_vectorizer.py -> build\\lib.win-amd64-3.6\\sklearn\\feature_extraction\\tests\n",
      "    copying sklearn\\feature_extraction\\tests\\test_feature_hasher.py -> build\\lib.win-amd64-3.6\\sklearn\\feature_extraction\\tests\n",
      "    copying sklearn\\feature_extraction\\tests\\test_image.py -> build\\lib.win-amd64-3.6\\sklearn\\feature_extraction\\tests\n",
      "    copying sklearn\\feature_extraction\\tests\\test_text.py -> build\\lib.win-amd64-3.6\\sklearn\\feature_extraction\\tests\n",
      "    copying sklearn\\feature_extraction\\tests\\__init__.py -> build\\lib.win-amd64-3.6\\sklearn\\feature_extraction\\tests\n",
      "    creating build\\lib.win-amd64-3.6\\sklearn\\manifold\n",
      "    copying sklearn\\manifold\\isomap.py -> build\\lib.win-amd64-3.6\\sklearn\\manifold\n",
      "    copying sklearn\\manifold\\locally_linear.py -> build\\lib.win-amd64-3.6\\sklearn\\manifold\n",
      "    copying sklearn\\manifold\\mds.py -> build\\lib.win-amd64-3.6\\sklearn\\manifold\n",
      "    copying sklearn\\manifold\\setup.py -> build\\lib.win-amd64-3.6\\sklearn\\manifold\n",
      "    copying sklearn\\manifold\\spectral_embedding_.py -> build\\lib.win-amd64-3.6\\sklearn\\manifold\n",
      "    copying sklearn\\manifold\\t_sne.py -> build\\lib.win-amd64-3.6\\sklearn\\manifold\n",
      "    copying sklearn\\manifold\\__init__.py -> build\\lib.win-amd64-3.6\\sklearn\\manifold\n",
      "    creating build\\lib.win-amd64-3.6\\sklearn\\manifold\\tests\n",
      "    copying sklearn\\manifold\\tests\\test_isomap.py -> build\\lib.win-amd64-3.6\\sklearn\\manifold\\tests\n",
      "    copying sklearn\\manifold\\tests\\test_locally_linear.py -> build\\lib.win-amd64-3.6\\sklearn\\manifold\\tests\n",
      "    copying sklearn\\manifold\\tests\\test_mds.py -> build\\lib.win-amd64-3.6\\sklearn\\manifold\\tests\n",
      "    copying sklearn\\manifold\\tests\\test_spectral_embedding.py -> build\\lib.win-amd64-3.6\\sklearn\\manifold\\tests\n",
      "    copying sklearn\\manifold\\tests\\test_t_sne.py -> build\\lib.win-amd64-3.6\\sklearn\\manifold\\tests\n",
      "    copying sklearn\\manifold\\tests\\__init__.py -> build\\lib.win-amd64-3.6\\sklearn\\manifold\\tests\n",
      "    creating build\\lib.win-amd64-3.6\\sklearn\\metrics\n",
      "    copying sklearn\\metrics\\base.py -> build\\lib.win-amd64-3.6\\sklearn\\metrics\n",
      "    copying sklearn\\metrics\\classification.py -> build\\lib.win-amd64-3.6\\sklearn\\metrics\n",
      "    copying sklearn\\metrics\\pairwise.py -> build\\lib.win-amd64-3.6\\sklearn\\metrics\n",
      "    copying sklearn\\metrics\\ranking.py -> build\\lib.win-amd64-3.6\\sklearn\\metrics\n",
      "    copying sklearn\\metrics\\regression.py -> build\\lib.win-amd64-3.6\\sklearn\\metrics\n",
      "    copying sklearn\\metrics\\scorer.py -> build\\lib.win-amd64-3.6\\sklearn\\metrics\n",
      "    copying sklearn\\metrics\\setup.py -> build\\lib.win-amd64-3.6\\sklearn\\metrics\n",
      "    copying sklearn\\metrics\\__init__.py -> build\\lib.win-amd64-3.6\\sklearn\\metrics\n",
      "    creating build\\lib.win-amd64-3.6\\sklearn\\metrics\\cluster\n",
      "    copying sklearn\\metrics\\cluster\\bicluster.py -> build\\lib.win-amd64-3.6\\sklearn\\metrics\\cluster\n",
      "    copying sklearn\\metrics\\cluster\\setup.py -> build\\lib.win-amd64-3.6\\sklearn\\metrics\\cluster\n",
      "    copying sklearn\\metrics\\cluster\\supervised.py -> build\\lib.win-amd64-3.6\\sklearn\\metrics\\cluster\n",
      "    copying sklearn\\metrics\\cluster\\unsupervised.py -> build\\lib.win-amd64-3.6\\sklearn\\metrics\\cluster\n",
      "    copying sklearn\\metrics\\cluster\\__init__.py -> build\\lib.win-amd64-3.6\\sklearn\\metrics\\cluster\n",
      "    creating build\\lib.win-amd64-3.6\\sklearn\\metrics\\cluster\\tests\n",
      "    copying sklearn\\metrics\\cluster\\tests\\test_bicluster.py -> build\\lib.win-amd64-3.6\\sklearn\\metrics\\cluster\\tests\n",
      "    copying sklearn\\metrics\\cluster\\tests\\test_supervised.py -> build\\lib.win-amd64-3.6\\sklearn\\metrics\\cluster\\tests\n",
      "    copying sklearn\\metrics\\cluster\\tests\\test_unsupervised.py -> build\\lib.win-amd64-3.6\\sklearn\\metrics\\cluster\\tests\n",
      "    copying sklearn\\metrics\\cluster\\tests\\__init__.py -> build\\lib.win-amd64-3.6\\sklearn\\metrics\\cluster\\tests\n",
      "    creating build\\lib.win-amd64-3.6\\sklearn\\metrics\\tests\n",
      "    copying sklearn\\metrics\\tests\\test_classification.py -> build\\lib.win-amd64-3.6\\sklearn\\metrics\\tests\n",
      "    copying sklearn\\metrics\\tests\\test_common.py -> build\\lib.win-amd64-3.6\\sklearn\\metrics\\tests\n",
      "    copying sklearn\\metrics\\tests\\test_pairwise.py -> build\\lib.win-amd64-3.6\\sklearn\\metrics\\tests\n",
      "    copying sklearn\\metrics\\tests\\test_ranking.py -> build\\lib.win-amd64-3.6\\sklearn\\metrics\\tests\n",
      "    copying sklearn\\metrics\\tests\\test_regression.py -> build\\lib.win-amd64-3.6\\sklearn\\metrics\\tests\n",
      "    copying sklearn\\metrics\\tests\\test_score_objects.py -> build\\lib.win-amd64-3.6\\sklearn\\metrics\\tests\n",
      "    copying sklearn\\metrics\\tests\\__init__.py -> build\\lib.win-amd64-3.6\\sklearn\\metrics\\tests\n",
      "    creating build\\lib.win-amd64-3.6\\sklearn\\neighbors\n",
      "    copying sklearn\\neighbors\\approximate.py -> build\\lib.win-amd64-3.6\\sklearn\\neighbors\n",
      "    copying sklearn\\neighbors\\base.py -> build\\lib.win-amd64-3.6\\sklearn\\neighbors\n",
      "    copying sklearn\\neighbors\\classification.py -> build\\lib.win-amd64-3.6\\sklearn\\neighbors\n",
      "    copying sklearn\\neighbors\\graph.py -> build\\lib.win-amd64-3.6\\sklearn\\neighbors\n",
      "    copying sklearn\\neighbors\\kde.py -> build\\lib.win-amd64-3.6\\sklearn\\neighbors\n",
      "    copying sklearn\\neighbors\\lof.py -> build\\lib.win-amd64-3.6\\sklearn\\neighbors\n",
      "    copying sklearn\\neighbors\\nearest_centroid.py -> build\\lib.win-amd64-3.6\\sklearn\\neighbors\n",
      "    copying sklearn\\neighbors\\regression.py -> build\\lib.win-amd64-3.6\\sklearn\\neighbors\n",
      "    copying sklearn\\neighbors\\setup.py -> build\\lib.win-amd64-3.6\\sklearn\\neighbors\n",
      "    copying sklearn\\neighbors\\unsupervised.py -> build\\lib.win-amd64-3.6\\sklearn\\neighbors\n",
      "    copying sklearn\\neighbors\\__init__.py -> build\\lib.win-amd64-3.6\\sklearn\\neighbors\n",
      "    creating build\\lib.win-amd64-3.6\\sklearn\\neighbors\\tests\n",
      "    copying sklearn\\neighbors\\tests\\test_approximate.py -> build\\lib.win-amd64-3.6\\sklearn\\neighbors\\tests\n",
      "    copying sklearn\\neighbors\\tests\\test_ball_tree.py -> build\\lib.win-amd64-3.6\\sklearn\\neighbors\\tests\n",
      "    copying sklearn\\neighbors\\tests\\test_dist_metrics.py -> build\\lib.win-amd64-3.6\\sklearn\\neighbors\\tests\n",
      "    copying sklearn\\neighbors\\tests\\test_kde.py -> build\\lib.win-amd64-3.6\\sklearn\\neighbors\\tests\n",
      "    copying sklearn\\neighbors\\tests\\test_kd_tree.py -> build\\lib.win-amd64-3.6\\sklearn\\neighbors\\tests\n",
      "    copying sklearn\\neighbors\\tests\\test_lof.py -> build\\lib.win-amd64-3.6\\sklearn\\neighbors\\tests\n",
      "    copying sklearn\\neighbors\\tests\\test_nearest_centroid.py -> build\\lib.win-amd64-3.6\\sklearn\\neighbors\\tests\n",
      "    copying sklearn\\neighbors\\tests\\test_neighbors.py -> build\\lib.win-amd64-3.6\\sklearn\\neighbors\\tests\n",
      "    copying sklearn\\neighbors\\tests\\test_quad_tree.py -> build\\lib.win-amd64-3.6\\sklearn\\neighbors\\tests\n",
      "    copying sklearn\\neighbors\\tests\\__init__.py -> build\\lib.win-amd64-3.6\\sklearn\\neighbors\\tests\n",
      "    creating build\\lib.win-amd64-3.6\\sklearn\\tree\n",
      "    copying sklearn\\tree\\export.py -> build\\lib.win-amd64-3.6\\sklearn\\tree\n",
      "    copying sklearn\\tree\\setup.py -> build\\lib.win-amd64-3.6\\sklearn\\tree\n",
      "    copying sklearn\\tree\\tree.py -> build\\lib.win-amd64-3.6\\sklearn\\tree\n",
      "    copying sklearn\\tree\\__init__.py -> build\\lib.win-amd64-3.6\\sklearn\\tree\n",
      "    creating build\\lib.win-amd64-3.6\\sklearn\\tree\\tests\n",
      "    copying sklearn\\tree\\tests\\test_export.py -> build\\lib.win-amd64-3.6\\sklearn\\tree\\tests\n",
      "    copying sklearn\\tree\\tests\\test_tree.py -> build\\lib.win-amd64-3.6\\sklearn\\tree\\tests\n",
      "    copying sklearn\\tree\\tests\\__init__.py -> build\\lib.win-amd64-3.6\\sklearn\\tree\\tests\n",
      "    creating build\\lib.win-amd64-3.6\\sklearn\\svm\n",
      "    copying sklearn\\svm\\base.py -> build\\lib.win-amd64-3.6\\sklearn\\svm\n",
      "    copying sklearn\\svm\\bounds.py -> build\\lib.win-amd64-3.6\\sklearn\\svm\n",
      "    copying sklearn\\svm\\classes.py -> build\\lib.win-amd64-3.6\\sklearn\\svm\n",
      "    copying sklearn\\svm\\setup.py -> build\\lib.win-amd64-3.6\\sklearn\\svm\n",
      "    copying sklearn\\svm\\__init__.py -> build\\lib.win-amd64-3.6\\sklearn\\svm\n",
      "    creating build\\lib.win-amd64-3.6\\sklearn\\svm\\tests\n",
      "    copying sklearn\\svm\\tests\\test_bounds.py -> build\\lib.win-amd64-3.6\\sklearn\\svm\\tests\n",
      "    copying sklearn\\svm\\tests\\test_sparse.py -> build\\lib.win-amd64-3.6\\sklearn\\svm\\tests\n",
      "    copying sklearn\\svm\\tests\\test_svm.py -> build\\lib.win-amd64-3.6\\sklearn\\svm\\tests\n",
      "    copying sklearn\\svm\\tests\\__init__.py -> build\\lib.win-amd64-3.6\\sklearn\\svm\\tests\n",
      "    creating build\\lib.win-amd64-3.6\\sklearn\\linear_model\n",
      "    copying sklearn\\linear_model\\base.py -> build\\lib.win-amd64-3.6\\sklearn\\linear_model\n",
      "    copying sklearn\\linear_model\\bayes.py -> build\\lib.win-amd64-3.6\\sklearn\\linear_model\n",
      "    copying sklearn\\linear_model\\coordinate_descent.py -> build\\lib.win-amd64-3.6\\sklearn\\linear_model\n",
      "    copying sklearn\\linear_model\\huber.py -> build\\lib.win-amd64-3.6\\sklearn\\linear_model\n",
      "    copying sklearn\\linear_model\\least_angle.py -> build\\lib.win-amd64-3.6\\sklearn\\linear_model\n",
      "    copying sklearn\\linear_model\\logistic.py -> build\\lib.win-amd64-3.6\\sklearn\\linear_model\n",
      "    copying sklearn\\linear_model\\omp.py -> build\\lib.win-amd64-3.6\\sklearn\\linear_model\n",
      "    copying sklearn\\linear_model\\passive_aggressive.py -> build\\lib.win-amd64-3.6\\sklearn\\linear_model\n",
      "    copying sklearn\\linear_model\\perceptron.py -> build\\lib.win-amd64-3.6\\sklearn\\linear_model\n",
      "    copying sklearn\\linear_model\\randomized_l1.py -> build\\lib.win-amd64-3.6\\sklearn\\linear_model\n",
      "    copying sklearn\\linear_model\\ransac.py -> build\\lib.win-amd64-3.6\\sklearn\\linear_model\n",
      "    copying sklearn\\linear_model\\ridge.py -> build\\lib.win-amd64-3.6\\sklearn\\linear_model\n",
      "    copying sklearn\\linear_model\\sag.py -> build\\lib.win-amd64-3.6\\sklearn\\linear_model\n",
      "    copying sklearn\\linear_model\\setup.py -> build\\lib.win-amd64-3.6\\sklearn\\linear_model\n",
      "    copying sklearn\\linear_model\\stochastic_gradient.py -> build\\lib.win-amd64-3.6\\sklearn\\linear_model\n",
      "    copying sklearn\\linear_model\\theil_sen.py -> build\\lib.win-amd64-3.6\\sklearn\\linear_model\n",
      "    copying sklearn\\linear_model\\__init__.py -> build\\lib.win-amd64-3.6\\sklearn\\linear_model\n",
      "    creating build\\lib.win-amd64-3.6\\sklearn\\linear_model\\tests\n",
      "    copying sklearn\\linear_model\\tests\\test_base.py -> build\\lib.win-amd64-3.6\\sklearn\\linear_model\\tests\n",
      "    copying sklearn\\linear_model\\tests\\test_bayes.py -> build\\lib.win-amd64-3.6\\sklearn\\linear_model\\tests\n",
      "    copying sklearn\\linear_model\\tests\\test_coordinate_descent.py -> build\\lib.win-amd64-3.6\\sklearn\\linear_model\\tests\n",
      "    copying sklearn\\linear_model\\tests\\test_huber.py -> build\\lib.win-amd64-3.6\\sklearn\\linear_model\\tests\n",
      "    copying sklearn\\linear_model\\tests\\test_least_angle.py -> build\\lib.win-amd64-3.6\\sklearn\\linear_model\\tests\n",
      "    copying sklearn\\linear_model\\tests\\test_logistic.py -> build\\lib.win-amd64-3.6\\sklearn\\linear_model\\tests\n",
      "    copying sklearn\\linear_model\\tests\\test_omp.py -> build\\lib.win-amd64-3.6\\sklearn\\linear_model\\tests\n",
      "    copying sklearn\\linear_model\\tests\\test_passive_aggressive.py -> build\\lib.win-amd64-3.6\\sklearn\\linear_model\\tests\n",
      "    copying sklearn\\linear_model\\tests\\test_perceptron.py -> build\\lib.win-amd64-3.6\\sklearn\\linear_model\\tests\n",
      "    copying sklearn\\linear_model\\tests\\test_randomized_l1.py -> build\\lib.win-amd64-3.6\\sklearn\\linear_model\\tests\n",
      "    copying sklearn\\linear_model\\tests\\test_ransac.py -> build\\lib.win-amd64-3.6\\sklearn\\linear_model\\tests\n",
      "    copying sklearn\\linear_model\\tests\\test_ridge.py -> build\\lib.win-amd64-3.6\\sklearn\\linear_model\\tests\n",
      "    copying sklearn\\linear_model\\tests\\test_sag.py -> build\\lib.win-amd64-3.6\\sklearn\\linear_model\\tests\n",
      "    copying sklearn\\linear_model\\tests\\test_sgd.py -> build\\lib.win-amd64-3.6\\sklearn\\linear_model\\tests\n",
      "    copying sklearn\\linear_model\\tests\\test_sparse_coordinate_descent.py -> build\\lib.win-amd64-3.6\\sklearn\\linear_model\\tests\n",
      "    copying sklearn\\linear_model\\tests\\test_theil_sen.py -> build\\lib.win-amd64-3.6\\sklearn\\linear_model\\tests\n",
      "    copying sklearn\\linear_model\\tests\\__init__.py -> build\\lib.win-amd64-3.6\\sklearn\\linear_model\\tests\n",
      "    creating build\\lib.win-amd64-3.6\\sklearn\\utils\n",
      "    copying sklearn\\utils\\arpack.py -> build\\lib.win-amd64-3.6\\sklearn\\utils\n",
      "    copying sklearn\\utils\\bench.py -> build\\lib.win-amd64-3.6\\sklearn\\utils\n",
      "    copying sklearn\\utils\\class_weight.py -> build\\lib.win-amd64-3.6\\sklearn\\utils\n",
      "    copying sklearn\\utils\\deprecation.py -> build\\lib.win-amd64-3.6\\sklearn\\utils\n",
      "    copying sklearn\\utils\\estimator_checks.py -> build\\lib.win-amd64-3.6\\sklearn\\utils\n",
      "    copying sklearn\\utils\\extmath.py -> build\\lib.win-amd64-3.6\\sklearn\\utils\n",
      "    copying sklearn\\utils\\fixes.py -> build\\lib.win-amd64-3.6\\sklearn\\utils\n",
      "    copying sklearn\\utils\\graph.py -> build\\lib.win-amd64-3.6\\sklearn\\utils\n",
      "    copying sklearn\\utils\\linear_assignment_.py -> build\\lib.win-amd64-3.6\\sklearn\\utils\n",
      "    copying sklearn\\utils\\metaestimators.py -> build\\lib.win-amd64-3.6\\sklearn\\utils\n",
      "    copying sklearn\\utils\\mocking.py -> build\\lib.win-amd64-3.6\\sklearn\\utils\n",
      "    copying sklearn\\utils\\multiclass.py -> build\\lib.win-amd64-3.6\\sklearn\\utils\n",
      "    copying sklearn\\utils\\optimize.py -> build\\lib.win-amd64-3.6\\sklearn\\utils\n",
      "    copying sklearn\\utils\\random.py -> build\\lib.win-amd64-3.6\\sklearn\\utils\n",
      "    copying sklearn\\utils\\setup.py -> build\\lib.win-amd64-3.6\\sklearn\\utils\n",
      "    copying sklearn\\utils\\sparsefuncs.py -> build\\lib.win-amd64-3.6\\sklearn\\utils\n",
      "    copying sklearn\\utils\\stats.py -> build\\lib.win-amd64-3.6\\sklearn\\utils\n",
      "    copying sklearn\\utils\\testing.py -> build\\lib.win-amd64-3.6\\sklearn\\utils\n",
      "    copying sklearn\\utils\\validation.py -> build\\lib.win-amd64-3.6\\sklearn\\utils\n",
      "    copying sklearn\\utils\\_scipy_sparse_lsqr_backport.py -> build\\lib.win-amd64-3.6\\sklearn\\utils\n",
      "    copying sklearn\\utils\\__init__.py -> build\\lib.win-amd64-3.6\\sklearn\\utils\n",
      "    creating build\\lib.win-amd64-3.6\\sklearn\\utils\\sparsetools\n",
      "    copying sklearn\\utils\\sparsetools\\setup.py -> build\\lib.win-amd64-3.6\\sklearn\\utils\\sparsetools\n",
      "    copying sklearn\\utils\\sparsetools\\__init__.py -> build\\lib.win-amd64-3.6\\sklearn\\utils\\sparsetools\n",
      "    creating build\\lib.win-amd64-3.6\\sklearn\\utils\\sparsetools\\tests\n",
      "    copying sklearn\\utils\\sparsetools\\tests\\__init__.py -> build\\lib.win-amd64-3.6\\sklearn\\utils\\sparsetools\\tests\n",
      "    creating build\\lib.win-amd64-3.6\\sklearn\\utils\\tests\n",
      "    copying sklearn\\utils\\tests\\test_bench.py -> build\\lib.win-amd64-3.6\\sklearn\\utils\\tests\n",
      "    copying sklearn\\utils\\tests\\test_class_weight.py -> build\\lib.win-amd64-3.6\\sklearn\\utils\\tests\n",
      "    copying sklearn\\utils\\tests\\test_deprecation.py -> build\\lib.win-amd64-3.6\\sklearn\\utils\\tests\n",
      "    copying sklearn\\utils\\tests\\test_estimator_checks.py -> build\\lib.win-amd64-3.6\\sklearn\\utils\\tests\n",
      "    copying sklearn\\utils\\tests\\test_extmath.py -> build\\lib.win-amd64-3.6\\sklearn\\utils\\tests\n",
      "    copying sklearn\\utils\\tests\\test_fast_dict.py -> build\\lib.win-amd64-3.6\\sklearn\\utils\\tests\n",
      "    copying sklearn\\utils\\tests\\test_fixes.py -> build\\lib.win-amd64-3.6\\sklearn\\utils\\tests\n",
      "    copying sklearn\\utils\\tests\\test_graph.py -> build\\lib.win-amd64-3.6\\sklearn\\utils\\tests\n",
      "    copying sklearn\\utils\\tests\\test_linear_assignment.py -> build\\lib.win-amd64-3.6\\sklearn\\utils\\tests\n",
      "    copying sklearn\\utils\\tests\\test_metaestimators.py -> build\\lib.win-amd64-3.6\\sklearn\\utils\\tests\n",
      "    copying sklearn\\utils\\tests\\test_multiclass.py -> build\\lib.win-amd64-3.6\\sklearn\\utils\\tests\n",
      "    copying sklearn\\utils\\tests\\test_murmurhash.py -> build\\lib.win-amd64-3.6\\sklearn\\utils\\tests\n",
      "    copying sklearn\\utils\\tests\\test_optimize.py -> build\\lib.win-amd64-3.6\\sklearn\\utils\\tests\n",
      "    copying sklearn\\utils\\tests\\test_random.py -> build\\lib.win-amd64-3.6\\sklearn\\utils\\tests\n",
      "    copying sklearn\\utils\\tests\\test_seq_dataset.py -> build\\lib.win-amd64-3.6\\sklearn\\utils\\tests\n",
      "    copying sklearn\\utils\\tests\\test_shortest_path.py -> build\\lib.win-amd64-3.6\\sklearn\\utils\\tests\n",
      "    copying sklearn\\utils\\tests\\test_sparsefuncs.py -> build\\lib.win-amd64-3.6\\sklearn\\utils\\tests\n",
      "    copying sklearn\\utils\\tests\\test_stats.py -> build\\lib.win-amd64-3.6\\sklearn\\utils\\tests\n",
      "    copying sklearn\\utils\\tests\\test_testing.py -> build\\lib.win-amd64-3.6\\sklearn\\utils\\tests\n",
      "    copying sklearn\\utils\\tests\\test_utils.py -> build\\lib.win-amd64-3.6\\sklearn\\utils\\tests\n",
      "    copying sklearn\\utils\\tests\\test_validation.py -> build\\lib.win-amd64-3.6\\sklearn\\utils\\tests\n",
      "    copying sklearn\\utils\\tests\\__init__.py -> build\\lib.win-amd64-3.6\\sklearn\\utils\\tests\n",
      "    creating build\\lib.win-amd64-3.6\\sklearn\\tests\n",
      "    copying sklearn\\tests\\test_base.py -> build\\lib.win-amd64-3.6\\sklearn\\tests\n",
      "    copying sklearn\\tests\\test_calibration.py -> build\\lib.win-amd64-3.6\\sklearn\\tests\n",
      "    copying sklearn\\tests\\test_check_build.py -> build\\lib.win-amd64-3.6\\sklearn\\tests\n",
      "    copying sklearn\\tests\\test_common.py -> build\\lib.win-amd64-3.6\\sklearn\\tests\n",
      "    copying sklearn\\tests\\test_config.py -> build\\lib.win-amd64-3.6\\sklearn\\tests\n",
      "    copying sklearn\\tests\\test_cross_validation.py -> build\\lib.win-amd64-3.6\\sklearn\\tests\n",
      "    copying sklearn\\tests\\test_discriminant_analysis.py -> build\\lib.win-amd64-3.6\\sklearn\\tests\n",
      "    copying sklearn\\tests\\test_docstring_parameters.py -> build\\lib.win-amd64-3.6\\sklearn\\tests\n",
      "    copying sklearn\\tests\\test_dummy.py -> build\\lib.win-amd64-3.6\\sklearn\\tests\n",
      "    copying sklearn\\tests\\test_grid_search.py -> build\\lib.win-amd64-3.6\\sklearn\\tests\n",
      "    copying sklearn\\tests\\test_init.py -> build\\lib.win-amd64-3.6\\sklearn\\tests\n",
      "    copying sklearn\\tests\\test_isotonic.py -> build\\lib.win-amd64-3.6\\sklearn\\tests\n",
      "    copying sklearn\\tests\\test_kernel_approximation.py -> build\\lib.win-amd64-3.6\\sklearn\\tests\n",
      "    copying sklearn\\tests\\test_kernel_ridge.py -> build\\lib.win-amd64-3.6\\sklearn\\tests\n",
      "    copying sklearn\\tests\\test_learning_curve.py -> build\\lib.win-amd64-3.6\\sklearn\\tests\n",
      "    copying sklearn\\tests\\test_metaestimators.py -> build\\lib.win-amd64-3.6\\sklearn\\tests\n",
      "    copying sklearn\\tests\\test_multiclass.py -> build\\lib.win-amd64-3.6\\sklearn\\tests\n",
      "    copying sklearn\\tests\\test_multioutput.py -> build\\lib.win-amd64-3.6\\sklearn\\tests\n",
      "    copying sklearn\\tests\\test_naive_bayes.py -> build\\lib.win-amd64-3.6\\sklearn\\tests\n",
      "    copying sklearn\\tests\\test_pipeline.py -> build\\lib.win-amd64-3.6\\sklearn\\tests\n",
      "    copying sklearn\\tests\\test_random_projection.py -> build\\lib.win-amd64-3.6\\sklearn\\tests\n",
      "    copying sklearn\\tests\\__init__.py -> build\\lib.win-amd64-3.6\\sklearn\\tests\n",
      "    running build_clib\n",
      "    No module named 'numpy.distutils._msvccompiler' in numpy.distutils; trying from distutils\n",
      "    customize MSVCCompiler\n",
      "    Missing compiler_cxx fix for MSVCCompiler\n",
      "    customize MSVCCompiler using build_clib\n",
      "    building 'libsvm-skl' library\n",
      "    compiling C sources\n",
      "    error: Microsoft Visual C++ 14.0 is required. Get it with \"Microsoft Visual C++ Build Tools\": http://landinghub.visualstudio.com/visual-cpp-build-tools\n",
      "    \n",
      "    ----------------------------------------\n"
     ]
    },
    {
     "name": "stderr",
     "output_type": "stream",
     "text": [
      "C:\\ProgramData\\Anaconda3x\\lib\\site-packages\\pip\\commands\\install.py:194: UserWarning: Disabling all use of wheels due to the use of --build-options / --global-options / --install-options.\n",
      "  cmdoptions.check_install_build_global(options)\n",
      "Command \"C:\\ProgramData\\Anaconda3x\\python.exe -u -c \"import setuptools, tokenize;__file__='c:\\\\temp\\\\pip-build-6cd4etel\\\\scikit-learn\\\\setup.py';f=getattr(tokenize, 'open', open)(__file__);code=f.read().replace('\\r\\n', '\\n');f.close();exec(compile(code, __file__, 'exec'))\" install --record c:\\temp\\pip-l79trxmi-record\\install-record.txt --single-version-externally-managed --compile --prefix= --user --prefix=\" failed with error code 1 in c:\\temp\\pip-build-6cd4etel\\scikit-learn\\\n",
      "You are using pip version 9.0.1, however version 18.0 is available.\n",
      "You should consider upgrading via the 'python -m pip install --upgrade pip' command.\n"
     ]
    }
   ],
   "source": [
    "!pip install --user --install-option=\"--prefix=\" -U scikit-learn\n"
   ]
  },
  {
   "cell_type": "code",
   "execution_count": null,
   "metadata": {
    "collapsed": true
   },
   "outputs": [],
   "source": []
  }
 ],
 "metadata": {
  "anaconda-cloud": {},
  "kernelspec": {
   "display_name": "Python 3",
   "language": "python",
   "name": "python3"
  },
  "language_info": {
   "codemirror_mode": {
    "name": "ipython",
    "version": 3
   },
   "file_extension": ".py",
   "mimetype": "text/x-python",
   "name": "python",
   "nbconvert_exporter": "python",
   "pygments_lexer": "ipython3",
   "version": "3.6.1"
  }
 },
 "nbformat": 4,
 "nbformat_minor": 1
}
